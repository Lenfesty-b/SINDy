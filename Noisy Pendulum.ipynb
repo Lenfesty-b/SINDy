{
 "cells": [
  {
   "cell_type": "code",
   "execution_count": 2,
   "metadata": {},
   "outputs": [],
   "source": [
    "import matplotlib.pyplot as plt\n",
    "from mpl_toolkits.mplot3d import Axes3D\n",
    "from matplotlib.cm import rainbow\n",
    "import numpy as np\n",
    "from scipy.integrate import odeint\n",
    "from scipy.io import loadmat\n",
    "import pysindy as ps\n",
    "import sdeint"
   ]
  },
  {
   "cell_type": "code",
   "execution_count": 78,
   "metadata": {},
   "outputs": [],
   "source": [
    "#Pendulum\n",
    "g=9         #gravity aprrox\n",
    "l=3         #pendulum length\n",
    "lam = 0.2   #decay \n",
    "c1= 1     #noise eqn1\n",
    "c2= 0     #noise eqn2\n",
    "tspan = np.linspace(0.0, 25, 2500) #time evolutuion\n",
    "x0 = [2., 0] #initial_conditions\n",
    "dt=0.01\n",
    "\n",
    "#Sindy\n",
    "poly_order = 1\n",
    "threshold = .105\n",
    "smoothed_fd=ps.SmoothedFiniteDifference()\n",
    "\n",
    "#setup of SDE's    \n",
    "A = np.array([[-lam, 3],[ -(g/l), -lam]]) \n",
    "    \n",
    "B = np.diag([np.sqrt(dt)*(c1)*(np.random.randn()), np.sqrt(dt)*(c2)*(np.random.randn())]) #so independent driving Wiener processes \n",
    "\n",
    "def f(x, t):\n",
    "        return A.dot(x)\n",
    "\n",
    "def G(x, t):\n",
    "        return B\n",
    "    \n",
    "def getData():\n",
    "    result = sdeint.itoint(f, G, x0, tspan)\n",
    "    return result\n",
    "\n",
    "def getModel(data):\n",
    "    model = ps.SINDy(\n",
    "            optimizer=ps.STLSQ(threshold=threshold),\n",
    "            feature_library=ps.PolynomialLibrary(degree=poly_order),\n",
    "            differentiation_method=smoothed_fd,\n",
    "        )\n",
    "    model.fit(data, t=dt)\n",
    "    model.print()"
   ]
  },
  {
   "cell_type": "code",
   "execution_count": 79,
   "metadata": {},
   "outputs": [],
   "source": [
    "x_data_1=getData()\n",
    "x_data_2=getData()\n",
    "x_data_3=getData()\n",
    "x_data_4=getData()\n",
    "x_data_5=getData()\n",
    "x_data_6=getData()\n",
    "x_data_7=getData()\n",
    "x_data_8=getData()\n",
    "x_data_9=getData()\n",
    "x_data_10=getData()\n",
    "x_total=(x_data_1+x_data_2+x_data_3+x_data_4+x_data_5+x_data_6+x_data_7+x_data_8+x_data_9+x_data_10)\n",
    "x_avg=np.true_divide(x_total, 10)"
   ]
  },
  {
   "cell_type": "code",
   "execution_count": 80,
   "metadata": {},
   "outputs": [
    {
     "name": "stdout",
     "output_type": "stream",
     "text": [
      "x0' = -0.193 x0 + 3.001 x1\n",
      "x1' = -3.001 x0 + -0.200 x1\n",
      "\n",
      "x0' = -0.202 x0 + 3.002 x1\n",
      "x1' = -3.001 x0 + -0.200 x1\n",
      "\n",
      "x0' = -0.191 x0 + 3.003 x1\n",
      "x1' = -3.001 x0 + -0.200 x1\n",
      "\n",
      "x0' = -0.203 x0 + 3.011 x1\n",
      "x1' = -3.001 x0 + -0.200 x1\n",
      "\n",
      "x0' = -0.200 x0 + 3.002 x1\n",
      "x1' = -3.001 x0 + -0.200 x1\n",
      "\n",
      "x0' = -0.195 x0 + 2.992 x1\n",
      "x1' = -3.001 x0 + -0.200 x1\n",
      "\n"
     ]
    }
   ],
   "source": [
    "model = ps.SINDy(\n",
    "        optimizer=ps.STLSQ(threshold=threshold),\n",
    "        feature_library=ps.PolynomialLibrary(degree=poly_order),\n",
    "        differentiation_method=smoothed_fd,\n",
    "    )\n",
    "model.fit(x_data_10, t=dt)\n",
    "model.print()\n",
    "print(\"\")\n",
    "Model_1=getModel(x_data_1)\n",
    "print(\"\")\n",
    "Model_2=getModel(x_data_2)\n",
    "print(\"\")\n",
    "Model_3=getModel(x_data_3)\n",
    "print(\"\")\n",
    "Model_4=getModel(x_data_4)\n",
    "print(\"\")\n",
    "Model_5=getModel(x_data_5)\n",
    "print(\"\")\n",
    "#avg=getModel(x_avg)"
   ]
  },
  {
   "cell_type": "code",
   "execution_count": 77,
   "metadata": {},
   "outputs": [
    {
     "ename": "NameError",
     "evalue": "name 'result' is not defined",
     "output_type": "error",
     "traceback": [
      "\u001b[0;31m---------------------------------------------------------------------------\u001b[0m",
      "\u001b[0;31mNameError\u001b[0m                                 Traceback (most recent call last)",
      "\u001b[0;32m<ipython-input-77-a7ff2808e70f>\u001b[0m in \u001b[0;36m<module>\u001b[0;34m\u001b[0m\n\u001b[1;32m      3\u001b[0m \u001b[0;34m\u001b[0m\u001b[0m\n\u001b[1;32m      4\u001b[0m \u001b[0mfig\u001b[0m\u001b[0;34m,\u001b[0m \u001b[0maxs\u001b[0m \u001b[0;34m=\u001b[0m \u001b[0mplt\u001b[0m\u001b[0;34m.\u001b[0m\u001b[0msubplots\u001b[0m\u001b[0;34m(\u001b[0m\u001b[0;36m1\u001b[0m\u001b[0;34m,\u001b[0m \u001b[0;36m2\u001b[0m\u001b[0;34m,\u001b[0m \u001b[0mconstrained_layout\u001b[0m\u001b[0;34m=\u001b[0m\u001b[0;32mTrue\u001b[0m\u001b[0;34m,\u001b[0m\u001b[0mfigsize\u001b[0m\u001b[0;34m=\u001b[0m\u001b[0;34m(\u001b[0m\u001b[0;36m10\u001b[0m\u001b[0;34m,\u001b[0m \u001b[0;36m4\u001b[0m\u001b[0;34m)\u001b[0m\u001b[0;34m)\u001b[0m\u001b[0;34m\u001b[0m\u001b[0;34m\u001b[0m\u001b[0m\n\u001b[0;32m----> 5\u001b[0;31m \u001b[0maxs\u001b[0m\u001b[0;34m[\u001b[0m\u001b[0;36m0\u001b[0m\u001b[0;34m]\u001b[0m\u001b[0;34m.\u001b[0m\u001b[0mplot\u001b[0m\u001b[0;34m(\u001b[0m\u001b[0mtspan\u001b[0m\u001b[0;34m,\u001b[0m \u001b[0mresult\u001b[0m\u001b[0;34m[\u001b[0m\u001b[0;34m:\u001b[0m\u001b[0;34m,\u001b[0m \u001b[0;36m0\u001b[0m\u001b[0;34m]\u001b[0m\u001b[0;34m,\u001b[0m \u001b[0;34m\"r\"\u001b[0m\u001b[0;34m,\u001b[0m \u001b[0mlabel\u001b[0m\u001b[0;34m=\u001b[0m\u001b[0;34m\"$x_0$\"\u001b[0m\u001b[0;34m,\u001b[0m \u001b[0;34m**\u001b[0m\u001b[0mplot_kws\u001b[0m\u001b[0;34m)\u001b[0m\u001b[0;34m\u001b[0m\u001b[0;34m\u001b[0m\u001b[0m\n\u001b[0m\u001b[1;32m      6\u001b[0m \u001b[0maxs\u001b[0m\u001b[0;34m[\u001b[0m\u001b[0;36m0\u001b[0m\u001b[0;34m]\u001b[0m\u001b[0;34m.\u001b[0m\u001b[0mplot\u001b[0m\u001b[0;34m(\u001b[0m\u001b[0mtspan\u001b[0m\u001b[0;34m,\u001b[0m \u001b[0mresult\u001b[0m\u001b[0;34m[\u001b[0m\u001b[0;34m:\u001b[0m\u001b[0;34m,\u001b[0m \u001b[0;36m1\u001b[0m\u001b[0;34m]\u001b[0m\u001b[0;34m,\u001b[0m \u001b[0;34m\"b\"\u001b[0m\u001b[0;34m,\u001b[0m \u001b[0mlabel\u001b[0m\u001b[0;34m=\u001b[0m\u001b[0;34m\"$x_1$\"\u001b[0m\u001b[0;34m,\u001b[0m \u001b[0malpha\u001b[0m\u001b[0;34m=\u001b[0m\u001b[0;36m0.4\u001b[0m\u001b[0;34m,\u001b[0m \u001b[0;34m**\u001b[0m\u001b[0mplot_kws\u001b[0m\u001b[0;34m)\u001b[0m\u001b[0;34m\u001b[0m\u001b[0;34m\u001b[0m\u001b[0m\n\u001b[1;32m      7\u001b[0m \u001b[0maxs\u001b[0m\u001b[0;34m[\u001b[0m\u001b[0;36m0\u001b[0m\u001b[0;34m]\u001b[0m\u001b[0;34m.\u001b[0m\u001b[0mplot\u001b[0m\u001b[0;34m(\u001b[0m\u001b[0mtspan\u001b[0m\u001b[0;34m,\u001b[0m \u001b[0mx_sim\u001b[0m\u001b[0;34m[\u001b[0m\u001b[0;34m:\u001b[0m\u001b[0;34m,\u001b[0m \u001b[0;36m0\u001b[0m\u001b[0;34m]\u001b[0m\u001b[0;34m,\u001b[0m \u001b[0;34m\"k--\"\u001b[0m\u001b[0;34m,\u001b[0m \u001b[0mlabel\u001b[0m\u001b[0;34m=\u001b[0m\u001b[0;34m\"model\"\u001b[0m\u001b[0;34m,\u001b[0m \u001b[0;34m**\u001b[0m\u001b[0mplot_kws\u001b[0m\u001b[0;34m)\u001b[0m\u001b[0;34m\u001b[0m\u001b[0;34m\u001b[0m\u001b[0m\n",
      "\u001b[0;31mNameError\u001b[0m: name 'result' is not defined"
     ]
    },
    {
     "data": {
      "image/png": "[encoded data removed]",
      "text/plain": [
       "<Figure size 720x288 with 2 Axes>"
      ]
     },
     "metadata": {
      "needs_background": "light"
     },
     "output_type": "display_data"
    }
   ],
   "source": [
    "x_sim = model.simulate(x0, tspan)\n",
    "plot_kws = dict(linewidth=2)\n",
    "\n",
    "fig, axs = plt.subplots(1, 2, constrained_layout=True,figsize=(10, 4))\n",
    "axs[0].plot(tspan, result[:, 0], \"r\", label=\"$x_0$\", **plot_kws)\n",
    "axs[0].plot(tspan, result[:, 1], \"b\", label=\"$x_1$\", alpha=0.4, **plot_kws)\n",
    "axs[0].plot(tspan, x_sim[:, 0], \"k--\", label=\"model\", **plot_kws)\n",
    "axs[0].plot(tspan, x_sim[:, 1], \"k--\")\n",
    "axs[0].legend(loc=\"best\")\n",
    "axs[0].set(xlabel=\"$time (seconds)$\", ylabel=\"$x_k$\")\n",
    "\n",
    "\n",
    "axs[1].plot(result[:, 0], result[:, 1], 'r-', label=\"$x_k$\", color='r', **plot_kws)\n",
    "axs[1].plot(x_sim[:, 0], x_sim[:, 1], 'b--', label=\"model\", color='b', **plot_kws)\n",
    "axs[1].set(title='Training data', xlabel='$Angle(theta)$', ylabel='$ Angular Velocity (Omega) $')\n",
    "axs[1].legend(loc=\"best\")\n",
    "fig.tight_layout\n",
    "fig.show()"
   ]
  }
 ],
 "metadata": {
  "kernelspec": {
   "display_name": "Python 3",
   "language": "python",
   "name": "python3"
  },
  "language_info": {
   "codemirror_mode": {
    "name": "ipython",
    "version": 3
   },
   "file_extension": ".py",
   "mimetype": "text/x-python",
   "name": "python",
   "nbconvert_exporter": "python",
   "pygments_lexer": "ipython3",
   "version": "3.8.5"
  }
 },
 "nbformat": 4,
 "nbformat_minor": 4
}
