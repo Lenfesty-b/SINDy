{
 "cells": [
  {
   "cell_type": "code",
   "execution_count": null,
   "metadata": {},
   "outputs": [],
   "source": [
    "!pip install scikit-learn\n"
   ]
  },
  {
   "cell_type": "code",
   "execution_count": null,
   "metadata": {},
   "outputs": [],
   "source": [
    "from sklearn import preprocessing\n",
    "# create the Labelencoder object\n",
    "le = preprocessing.LabelEncoder()\n",
    "#convert the categorical columns into numeric\n",
    "encoded_value = le.fit_transform([\"paris\", \"paris\", \"tokyo\", \"amsterdam\"])\n",
    "print(encoded_value)"
   ]
  },
  {
   "cell_type": "code",
   "execution_count": null,
   "metadata": {},
   "outputs": [],
   "source": [
    "sales_data['Supplies Subgroup'] = le.fit_transform(sales_data['Supplies Subgroup'])\n",
    "sales_data['Region'] = le.fit_transform(sales_data['Region'])\n",
    "sales_data['Route To Market'] = le.fit_transform(sales_data['Route To Market'])\n",
    "sales_data['Opportunity Result'] = le.fit_transform(sales_data['Opportunity Result'])\n",
    "sales_data['Competitor Type'] = le.fit_transform(sales_data['Competitor Type'])\n",
    "sales_data['Supplies Group'] = le.fit_transform(sales_data['Supplies Group'])\n",
    "#display the initial records\n",
    "sales_data.head()"
   ]
  },
  {
   "cell_type": "code",
   "execution_count": null,
   "metadata": {},
   "outputs": [],
   "source": [
    "# select columns other than 'Opportunity Number','Opportunity Result'cols = [col for col in sales_data.columns if col not in ['Opportunity Number','Opportunity Result']]\n",
    "# dropping the 'Opportunity Number'and 'Opportunity Result' columns\n",
    "data = sales_data[cols]\n",
    "#assigning the Oppurtunity Result column as target\n",
    "target = sales_data['Opportunity Result']"
   ]
  },
  {
   "cell_type": "code",
   "execution_count": null,
   "metadata": {},
   "outputs": [],
   "source": [
    "sales_data.columns()"
   ]
  },
  {
   "cell_type": "code",
   "execution_count": null,
   "metadata": {},
   "outputs": [],
   "source": [
    "data = sales_data[sales_data.columns.difference(['Opportunity Number','Opportunity Result'])]\n",
    "target = sales_data['Opportunity Result']"
   ]
  },
  {
   "cell_type": "code",
   "execution_count": null,
   "metadata": {},
   "outputs": [],
   "source": [
    "data.head(n=2)"
   ]
  },
  {
   "cell_type": "code",
   "execution_count": null,
   "metadata": {},
   "outputs": [],
   "source": [
    "data.shape()"
   ]
  },
  {
   "cell_type": "code",
   "execution_count": null,
   "metadata": {},
   "outputs": [],
   "source": [
    "data.shape"
   ]
  },
  {
   "cell_type": "code",
   "execution_count": null,
   "metadata": {},
   "outputs": [],
   "source": [
    "setsdata_train, data_test, target_train, target_test = train_test_split(data,target, test_size = 0.30, random_state = 10)"
   ]
  },
  {
   "cell_type": "code",
   "execution_count": null,
   "metadata": {},
   "outputs": [],
   "source": [
    "from sklearn.model_selection import train_test_split\n"
   ]
  },
  {
   "cell_type": "code",
   "execution_count": null,
   "metadata": {},
   "outputs": [],
   "source": [
    "setsdata_train, data_test, target_train, target_test = train_test_split(data,target, test_size = 0.30, random_state = 10)"
   ]
  },
  {
   "cell_type": "code",
   "execution_count": null,
   "metadata": {},
   "outputs": [],
   "source": [
    "# import the necessary module\n",
    "from sklearn.naive_bayes import GaussianNB\n",
    "from sklearn.metrics import accuracy_score\n",
    "#create an object of the type GaussianNB\n",
    "gnb = GaussianNB()\n",
    "#train the algorithm on training data and predict using the testing data\n",
    "pred = gnb.fit(data_train, target_train).predict(data_test)\n",
    "#print(pred.tolist())\n",
    "#print the accuracy score of the model\n",
    "print(\"Naive-Bayes accuracy : \",accuracy_score(target_test, pred, normalize = True)"
   ]
  },
  {
   "cell_type": "code",
   "execution_count": null,
   "metadata": {},
   "outputs": [],
   "source": [
    "# import the necessary module\n",
    "from sklearn.naive_bayes import GaussianNB\n",
    "from sklearn.metrics import accuracy_score\n",
    "#create an object of the type GaussianNB\n",
    "gnb = GaussianNB()\n",
    "#train the algorithm on training data and predict using the testing data\n",
    "pred = gnb.fit(data_train, target_train).predict(data_test)\n",
    "print(pred.tolist())\n",
    "#print the accuracy score of the model\n",
    "print(\"Naive-Bayes accuracy : \",accuracy_score(target_test, pred, normalize = True)"
   ]
  },
  {
   "cell_type": "code",
   "execution_count": null,
   "metadata": {},
   "outputs": [],
   "source": [
    "# import the necessary module\n",
    "from sklearn.naive_bayes import GaussianNB\n",
    "from sklearn.metrics import accuracy_score\n",
    "#create an object of the type GaussianNB\n",
    "gnb = GaussianNB()\n",
    "#train the algorithm on training data and predict using the testing data\n",
    "pred = gnb.fit(data_train, target_train).predict(data_test)\n",
    "#print(pred.tolist())\n",
    "#print the accuracy score of the model\n",
    "print(\"Naive-Bayes accuracy : \",accuracy_score(target_test, pred, normalize = True))"
   ]
  },
  {
   "cell_type": "code",
   "execution_count": null,
   "metadata": {},
   "outputs": [],
   "source": [
    "sets data_train, data_test, target_train, target_test = train_test_split(data,target, test_size = 0.30, random_state = 10)"
   ]
  },
  {
   "cell_type": "code",
   "execution_count": null,
   "metadata": {},
   "outputs": [],
   "source": [
    "setsdata_train, data_test, target_train, target_test = train_test_split(data,target, test_size = 0.30, random_state = 10)"
   ]
  },
  {
   "cell_type": "code",
   "execution_count": null,
   "metadata": {},
   "outputs": [],
   "source": [
    "# import the necessary module\n",
    "from sklearn.naive_bayes import GaussianNB\n",
    "from sklearn.metrics import accuracy_score\n",
    "#create an object of the type GaussianNB\n",
    "gnb = GaussianNB()\n",
    "#train the algorithm on training data and predict using the testing data\n",
    "pred = gnb.fit(setsdata_train, target_train).predict(data_test)\n",
    "#print(pred.tolist())\n",
    "#print the accuracy score of the model\n",
    "print(\"Naive-Bayes accuracy : \",accuracy_score(target_test, pred, normalize = True))"
   ]
  },
  {
   "cell_type": "code",
   "execution_count": null,
   "metadata": {},
   "outputs": [],
   "source": [
    "#import the necessary modules\n",
    "from sklearn.svm import LinearSVC\n",
    "from sklearn.metrics import accuracy_score\n",
    "#create an object of type LinearSVC\n",
    "svc_model = LinearSVC(random_state=0)\n",
    "#train the algorithm on training data and predict using the testing data\n",
    "pred = svc_model.fit(setsdata_train, target_train).predict(data_test)\n",
    "#print(pred.tolist())\n",
    "#print the accuracy score of the model\n",
    "print(\"LinearSVC accuracy : \",accuracy_score(target_test, pred, normalize = True))\n"
   ]
  },
  {
   "cell_type": "code",
   "execution_count": null,
   "metadata": {},
   "outputs": [],
   "source": [
    "#import necessary modules\n",
    "from sklearn.neighbors import KNeighborsClassifier\n",
    "from sklearn.metrics import accuracy_score\n",
    "#create object of the lassifier\n",
    "neigh = KNeighborsClassifier(n_neighbors=3)\n",
    "#Train the algorithm\n",
    "neigh.fit(setsdata_train, target_train)\n",
    "# predict the response\n",
    "pred = neigh.predict(data_test)\n",
    "# evaluate accuracy\n",
    "print (\"KNeighbors accuracy score : \",accuracy_score(target_test, pred))"
   ]
  },
  {
   "cell_type": "code",
   "execution_count": null,
   "metadata": {},
   "outputs": [],
   "source": [
    "!pip install pysyindy"
   ]
  },
  {
   "cell_type": "code",
   "execution_count": null,
   "metadata": {},
   "outputs": [],
   "source": [
    "!pip install pysindy"
   ]
  },
  {
   "cell_type": "code",
   "execution_count": null,
   "metadata": {},
   "outputs": [],
   "source": [
    "import numpy as np\n",
    "\n",
    "import pysindy as ps"
   ]
  },
  {
   "cell_type": "code",
   "execution_count": null,
   "metadata": {},
   "outputs": [],
   "source": [
    "t = np.linspace(0, 1, 100)\n",
    "x = 3 * np.exp(-2 * t)\n",
    "y = 0.5 * np.exp(t)\n",
    "X = np.stack((x, y), axis=-1)  # First column is x, second is y"
   ]
  },
  {
   "cell_type": "code",
   "execution_count": null,
   "metadata": {},
   "outputs": [],
   "source": [
    "model = ps.SINDy(feature_names=[\"x\", \"y\"])\n",
    "model.fit(X, t=t)"
   ]
  },
  {
   "cell_type": "code",
   "execution_count": null,
   "metadata": {},
   "outputs": [],
   "source": []
  },
  {
   "cell_type": "code",
   "execution_count": null,
   "metadata": {},
   "outputs": [],
   "source": [
    "model.print()"
   ]
  },
  {
   "cell_type": "code",
   "execution_count": null,
   "metadata": {},
   "outputs": [],
   "source": []
  },
  {
   "cell_type": "code",
   "execution_count": null,
   "metadata": {},
   "outputs": [],
   "source": [
    "x0 = 6\n",
    "y0 = -0.1\n",
    "\n",
    "t_test = np.linspace(0, 1, 100)\n",
    "x_test = x0 * np.exp(-2 * t_test)\n",
    "y_test = y0 * np.exp(t_test)\n",
    "\n",
    "sim = model.simulate([x0, y0], t=t_test)"
   ]
  },
  {
   "cell_type": "code",
   "execution_count": null,
   "metadata": {},
   "outputs": [],
   "source": []
  },
  {
   "cell_type": "code",
   "execution_count": null,
   "metadata": {},
   "outputs": [],
   "source": [
    "import matplotlib.pyplot as plt\n",
    "\n",
    "fig, ax = plt.subplots(1, 1, figsize=(5, 5))\n",
    "ax.plot(x0, y0, \"ro\", label=\"Initial condition\", alpha=0.6, markersize=8)\n",
    "ax.plot(x_test, y_test, \"b\", label=\"Exact solution\", alpha=0.4, linewidth=4)\n",
    "ax.plot(sim[:, 0], sim[:, 1], \"k--\", label=\"SINDy model\", linewidth=3)\n",
    "ax.set(xlabel=\"x\", ylabel=\"y\")\n",
    "ax.legend()\n",
    "fig.show()"
   ]
  },
  {
   "cell_type": "code",
   "execution_count": null,
   "metadata": {},
   "outputs": [],
   "source": [
    "import matplotlib.pyplot as plt\n",
    "from mpl_toolkits.mplot3d import Axes3D\n",
    "from matplotlib.cm import rainbow\n",
    "import numpy as np\n",
    "from scipy.integrate import odeint\n",
    "from scipy.io import loadmat\n",
    "\n",
    "import pysindy as ps"
   ]
  },
  {
   "cell_type": "code",
   "execution_count": null,
   "metadata": {},
   "outputs": [],
   "source": []
  },
  {
   "cell_type": "code",
   "execution_count": null,
   "metadata": {},
   "outputs": [],
   "source": []
  },
  {
   "cell_type": "code",
   "execution_count": null,
   "metadata": {},
   "outputs": [],
   "source": []
  },
  {
   "cell_type": "code",
   "execution_count": null,
   "metadata": {},
   "outputs": [],
   "source": [
    "def f(x, t):\n",
    "    return [\n",
    "        -0.1 * x[0] + 2 * x[1],\n",
    "        -2 * x[0] - 0.1 * x[1]\n",
    "    ]\n",
    "\n",
    "\n",
    "dt = 0.01\n",
    "t_train = np.arange(0, 25, dt)\n",
    "x0_train = [2, 0]\n",
    "x_train = odeint(f, x0_train, t_train)"
   ]
  },
  {
   "cell_type": "code",
   "execution_count": null,
   "metadata": {},
   "outputs": [],
   "source": [
    "poly_order = 5\n",
    "threshold = 0.05\n",
    "\n",
    "model = ps.SINDy(\n",
    "    optimizer=ps.STLSQ(threshold=threshold),\n",
    "    feature_library=ps.PolynomialLibrary(degree=poly_order),\n",
    ")\n",
    "model.fit(x_train, t=dt)\n",
    "model.print()"
   ]
  },
  {
   "cell_type": "code",
   "execution_count": null,
   "metadata": {},
   "outputs": [],
   "source": [
    "x_sim = model.simulate(x0_train, t_train)\n",
    "plot_kws = dict(linewidth=2)\n",
    "\n",
    "fig, axs = plt.subplots(1, 2, figsize=(10, 4))\n",
    "axs[0].plot(t_train, x_train[:, 0], \"r\", label=\"$x_0$\", **plot_kws)\n",
    "axs[0].plot(t_train, x_train[:, 1], \"b\", label=\"$x_1$\", alpha=0.4, **plot_kws)\n",
    "axs[0].plot(t_train, x_sim[:, 0], \"k--\", label=\"model\", **plot_kws)\n",
    "axs[0].plot(t_train, x_sim[:, 1], \"k--\")\n",
    "axs[0].legend()\n",
    "axs[0].set(xlabel=\"t\", ylabel=\"$x_k$\")\n",
    "\n",
    "axs[1].plot(x_train[:, 0], x_train[:, 1], \"r\", label=\"$x_k$\", **plot_kws)\n",
    "axs[1].plot(x_sim[:, 0], x_sim[:, 1], \"k--\", label=\"model\", **plot_kws)\n",
    "axs[1].legend()\n",
    "axs[1].set(xlabel=\"$x_1$\", ylabel=\"$x_2$\")\n",
    "fig.show()"
   ]
  },
  {
   "cell_type": "code",
   "execution_count": null,
   "metadata": {},
   "outputs": [],
   "source": [
    "def f(x, t):\n",
    "    return [\n",
    "        -0.1 * x[0] + 2 * x[1],\n",
    "        -2 * x[0] - 0.1 * x[1]\n",
    "    ]\n",
    "\n",
    "\n",
    "dt = 0.01\n",
    "t_train = np.arange(0, 25, dt)\n",
    "x0_train = [2, 0]\n",
    "x_train = odeint(f, x0_train, t_train)\n"
   ]
  },
  {
   "cell_type": "code",
   "execution_count": null,
   "metadata": {},
   "outputs": [],
   "source": [
    "poly_order = 5\n",
    "threshold = 0.05\n",
    "\n",
    "model = ps.SINDy(\n",
    "    optimizer=ps.STLSQ(threshold=threshold),\n",
    "    feature_library=ps.PolynomialLibrary(degree=poly_order),\n",
    ")\n",
    "model.fit(x_train, t=dt)\n",
    "model.print()"
   ]
  },
  {
   "cell_type": "code",
   "execution_count": null,
   "metadata": {},
   "outputs": [],
   "source": [
    "x_sim = model.simulate(x0_train, t_train)\n",
    "plot_kws = dict(linewidth=2)\n",
    "\n",
    "fig, axs = plt.subplots(1, 2, figsize=(10, 4))\n",
    "axs[0].plot(t_train, x_train[:, 0], \"r\", label=\"$x_0$\", **plot_kws)\n",
    "axs[0].plot(t_train, x_train[:, 1], \"b\", label=\"$x_1$\", alpha=0.4, **plot_kws)\n",
    "axs[0].plot(t_train, x_sim[:, 0], \"k--\", label=\"model\", **plot_kws)\n",
    "axs[0].plot(t_train, x_sim[:, 1], \"k--\")\n",
    "axs[0].legend()\n",
    "axs[0].set(xlabel=\"t\", ylabel=\"$x_k$\")\n",
    "\n",
    "axs[1].plot(x_train[:, 0], x_train[:, 1], \"r\", label=\"$x_k$\", **plot_kws)\n",
    "axs[1].plot(x_sim[:, 0], x_sim[:, 1], \"k--\", label=\"model\", **plot_kws)\n",
    "axs[1].legend()\n",
    "axs[1].set(xlabel=\"$x_1$\", ylabel=\"$x_2$\")\n",
    "fig.show()"
   ]
  },
  {
   "cell_type": "code",
   "execution_count": null,
   "metadata": {
    "scrolled": false
   },
   "outputs": [],
   "source": [
    "def linearODE(x, t):\n",
    "    return [\n",
    "        -0.5 * x[0] + 4.5 * x[1],\n",
    "        -4.5 * x[0] - 0.5 * x[1]\n",
    "    ]\n",
    "\n",
    "\n",
    "dt = 0.01\n",
    "t_train = np.arange(0, 25, dt)\n",
    "x0_train = [2, 0]\n",
    "x_train = odeint(f, x0_train, t_train)\n",
    "#print(x_train)"
   ]
  },
  {
   "cell_type": "code",
   "execution_count": null,
   "metadata": {},
   "outputs": [],
   "source": [
    "poly_order = 5\n",
    "threshold = 0.05\n",
    "\n",
    "model = ps.SINDy(\n",
    "    optimizer=ps.STLSQ(threshold=threshold),\n",
    "    feature_library=ps.PolynomialLibrary(degree=poly_order),\n",
    ")\n",
    "model.fit(x_train, t=dt)\n",
    "model.print()"
   ]
  },
  {
   "cell_type": "code",
   "execution_count": null,
   "metadata": {},
   "outputs": [],
   "source": [
    "x_sim = model.simulate(x0_train, t_train)\n",
    "\n",
    "plot_kws = dict(linewidth=2)\n",
    "\n",
    "fig, axs = plt.subplots(1, 2, figsize=(10, 4))\n",
    "axs[0].plot(t_train, x_train[:, 0], \"r\", label=\"$x_0$\", **plot_kws)\n",
    "axs[0].plot(t_train, x_train[:, 1], \"b\", label=\"$x_1$\", alpha=0.4, **plot_kws)\n",
    "axs[0].plot(t_train, x_sim[:, 0], \"k--\", label=\"model\", **plot_kws)\n",
    "axs[0].plot(t_train, x_sim[:, 1], \"k--\")\n",
    "axs[0].legend()\n",
    "axs[0].set(xlabel=\"t\", ylabel=\"$x_k$\")\n",
    "\n",
    "axs[1].plot(x_train[:, 0], x_train[:, 1], \"r\", label=\"$x_k$\", **plot_kws)\n",
    "axs[1].plot(x_sim[:, 0], x_sim[:, 1], \"k--\", label=\"model\", **plot_kws)\n",
    "axs[1].legend()\n",
    "axs[1].set(xlabel=\"$x_1$\", ylabel=\"$x_2$\")\n",
    "fig.show()"
   ]
  },
  {
   "cell_type": "code",
   "execution_count": 5,
   "metadata": {},
   "outputs": [],
   "source": [
    "import matplotlib.pyplot as plt\n",
    "from mpl_toolkits.mplot3d import Axes3D\n",
    "from matplotlib.cm import rainbow\n",
    "import numpy as np\n",
    "from scipy.integrate import odeint\n",
    "from scipy.io import loadmat\n",
    "\n",
    "import pysindy as ps"
   ]
  },
  {
   "cell_type": "code",
   "execution_count": null,
   "metadata": {},
   "outputs": [],
   "source": [
    "def get_theta_double_dot(theta,theta_dot):\n",
    "    return -mu*(g/L)*np.sin(theta)"
   ]
  },
  {
   "cell_type": "code",
   "execution_count": null,
   "metadata": {},
   "outputs": [],
   "source": [
    "def theta(t):\n",
    "    theta= theta_0\n",
    "    theta_dot=theta_dot_0\n",
    "    delta_t=0.01\n",
    "    for time in np.arange(0, t, delta_t):\n",
    "        theta_double_dot=get_theta_double_dot(\n",
    "        theta,theta_dot\n",
    "        )\n",
    "        theta+= theta_dot*delta_t\n",
    "        theta_dot+= theta_double_dot*delta_t\n",
    "    return [theta,theta_dot] \n",
    "    \n",
    "\n",
    "       "
   ]
  },
  {
   "cell_type": "code",
   "execution_count": null,
   "metadata": {},
   "outputs": [],
   "source": [
    "poly_order = 5\n",
    "threshold = 0.05\n",
    "\n",
    "model = ps.SINDy(\n",
    "    optimizer=ps.STLSQ(threshold=threshold),\n",
    "    feature_library=ps.PolynomialLibrary(degree=poly_order),\n",
    ")\n",
    "model.fit(theta1, time)\n",
    "model.print()"
   ]
  },
  {
   "cell_type": "code",
   "execution_count": null,
   "metadata": {},
   "outputs": [],
   "source": [
    "x_sim = model.simulate(initial_cond, time)\n",
    "\n",
    "def plot_results(time,theta1,x_sim):\n",
    "\tplt.plot(time, x_sim[:,0])\n",
    "\tplt.plot(time, theta1)\n",
    "\n",
    "\ts = '(Initial Angle = ' + str(initial_angle) + ' degrees)'\n",
    "\tplt.title('Pendulum Motion: ' + s)\n",
    "\tplt.xlabel('time (s)')\n",
    "\tplt.ylabel('angle (rad)')\n",
    "\tplt.grid(True)\n",
    "\tplt.legend(['linear', 'model'], loc='lower right')\n",
    "\tplt.show()\n",
    "    \n",
    "    \n",
    "plot_results(time, theta2, x_sim)"
   ]
  },
  {
   "cell_type": "code",
   "execution_count": null,
   "metadata": {},
   "outputs": [],
   "source": []
  },
  {
   "cell_type": "code",
   "execution_count": 3,
   "metadata": {},
   "outputs": [],
   "source": [
    "import numpy as np \n",
    "from numpy import sin, cos\n",
    "from scipy.integrate import odeint\n",
    "from matplotlib import pyplot as plt \n",
    "\n",
    "\n",
    "# define the equations\n",
    "def equations(y0, t):\n",
    "\ttheta, x = y0\n",
    "\tf = [x, -(g/l) * sin(theta)]\n",
    "\treturn f\n",
    "\n",
    "def plot_results(time,theta2,x_sim):\n",
    "\tplt.plot(time, x_sim[:,0])\n",
    "\tplt.plot(time, theta2)\n",
    "\n",
    "\ts = '(Initial Angle = ' + str(initial_angle) + ' degrees)'\n",
    "\tplt.title('Pendulum Motion: ' + s)\n",
    "\tplt.xlabel('time (s)')\n",
    "\tplt.ylabel('angle (rad)')\n",
    "\tplt.grid(True)\n",
    "\tplt.legend(['nonlinear', 'model'], loc='lower right')\n",
    "\tplt.show()\n",
    "\n",
    "# parameters\n",
    "g = 9.81\n",
    "l = 1.0\n",
    "dt=0.01\n",
    "\n",
    "time = np.arange(0, 25, dt)\n",
    "\n",
    "# initial conditions\n",
    "initial_angle = 130.0\n",
    "theta0 = np.radians(initial_angle)\n",
    "x0 = np.radians(0.0)\n",
    "\n",
    "# find the solution to the nonlinear problem\n",
    "theta1 = odeint(equations, [theta0, x0],  time)\n",
    "\n",
    "# find the solution to the linear problem\n",
    "#w = np.sqrt(g/l)\n",
    "#theta2 = [theta0 * cos(w*t) for t in time]"
   ]
  },
  {
   "cell_type": "code",
   "execution_count": null,
   "metadata": {},
   "outputs": [],
   "source": [
    "poly_order = 5\n",
    "threshold = 0.05\n",
    "\n",
    "model = ps.SINDy(\n",
    "    optimizer=ps.STLSQ(threshold=threshold),\n",
    "    feature_library=ps.PolynomialLibrary(degree=poly_order),\n",
    ")\n",
    "model.fit(theta1, time)\n",
    "model.print()\n",
    "xnl_train = [theta0, 0]\n",
    "x_sim = model.simulate(xnl_train, time)\n",
    "# plot the results\n",
    "plot_results(time, theta2, x_sim)"
   ]
  },
  {
   "cell_type": "code",
   "execution_count": null,
   "metadata": {},
   "outputs": [],
   "source": [
    "for i in range(1, t_train.size):\n",
    "    t = (i - 1) * dt\n",
    "    y = x0_train\n",
    "    ys = [x0+noise,x1]"
   ]
  },
  {
   "cell_type": "code",
   "execution_count": null,
   "metadata": {},
   "outputs": [],
   "source": [
    "\n",
    "import numpy as np\n",
    "import matplotlib.pyplot as plt\n",
    "\n",
    "num_sims = 5  # Display five runs\n",
    "\n",
    "t_init = 3\n",
    "t_end  = 7\n",
    "N      = 1000  # Compute 1000 grid points\n",
    "dt     = float(t_end - t_init) / N\n",
    "y_init = 0\n",
    "\n",
    "c_theta = 0.7\n",
    "c_mu    = 1.5\n",
    "c_sigma = 0.06\n",
    "\n",
    "def mu(y, t):\n",
    "    \"\"\"Implement the Ornstein–Uhlenbeck mu.\"\"\"  # = \\theta (\\mu-Y_t)\n",
    "    return c_theta * (c_mu - y)\n",
    "\n",
    "def sigma(y, t):\n",
    "    \"\"\"Implement the Ornstein–Uhlenbeck sigma.\"\"\"  # = \\sigma\n",
    "    return c_sigma\n",
    "\n",
    "def dW(delta_t):\n",
    "    \"\"\"Sample a random number at each call.\"\"\"\n",
    "    return np.random.normal(loc=0.0, scale=np.sqrt(delta_t))\n",
    "\n",
    "ts = np.arange(t_init, t_end + dt, dt)\n",
    "ys = np.zeros(N + 1)\n",
    "\n",
    "ys[0] = y_init\n",
    "\n",
    "for i in range(1, ts.size):\n",
    "    t = (i - 1) * dt\n",
    "    y = ys[i - 1]\n",
    "    ys[i] = y + mu(y, t) * dt + sigma(y, t) * dW(dt)\n",
    "\n",
    "        \n",
    "plt.plot(ts, ys)\n",
    "plt.xlabel(\"time (s)\")\n",
    "h = plt.ylabel(\"y\")\n",
    "h.set_rotation(0)\n",
    "plt.show()"
   ]
  },
  {
   "cell_type": "code",
   "execution_count": null,
   "metadata": {},
   "outputs": [],
   "source": [
    "#Params\n",
    "g = 9.81\n",
    "l = 1.0\n",
    "time = np.arange(0, 10.0, 0.025)\n",
    "\n",
    "#initial conditions\n",
    "theta0 = 2\n",
    "x0 = np.radians(0.0)\n",
    "\n",
    "#Linear\n",
    "w = np.sqrt(g/l)\n",
    "theta2 = [theta0 * np.cos(w*t) for t in time]\n",
    "\n",
    "\n",
    "plt.plot(time, theta2)\n",
    "plt.xlabel('time (s)')\n",
    "plt.ylabel('angle (rad)')\n",
    "plt.show()\n",
    "\n"
   ]
  },
  {
   "cell_type": "code",
   "execution_count": null,
   "metadata": {},
   "outputs": [],
   "source": [
    "g=-9\n",
    "l=3\n",
    "initial_cond=[2.00,0.00]\n",
    "\n",
    "\n",
    "\n",
    "def dataGen(t):\n",
    "    theta= initial_cond[0]\n",
    "    theta_dot=initial_cond[1]\n",
    "    dt=0.01\n",
    "    z=np.empty((2500, 2))\n",
    "    for time in np.arange(0, t, dt):\n",
    "        i=0\n",
    "        x=[(theta) + (dt)*(theta_dot) + np.sqrt(dt)*(0.0)*(np.random.randn()),\n",
    "           theta_dot + (dt)*((-g/l)*theta)]\n",
    "        theta=z[i][0]\n",
    "        theta_dot=z[i][1]\n",
    "        i+=1\n",
    "        return z\n",
    "    x_data_noise=dataGen(25)\n",
    "print(x_data_noise)\n",
    "\n",
    "plot_kws = dict(linewidth=2)\n",
    "fig, axs = plt.subplots(1, 2, constrained_layout=True,figsize=(10, 4))\n",
    "axs[1].plot(x_data_noise[:, 0], x_data_noise[:, 1], 'r-', label=\"$x_k$\", color='r', **plot_kws)\n",
    "axs[1].set(title='Training data', xlabel='$Angle(theta)$', ylabel='$ Angular Velocity (Omega) $')\n",
    "axs[1].legend(loc=\"best\")\n",
    "fig.tight_layout\n",
    "fig.show()"
   ]
  },
  {
   "cell_type": "code",
   "execution_count": null,
   "metadata": {},
   "outputs": [],
   "source": [
    "#sqrt(dt)*(sigma)*(randn)\n",
    "#noise = noise_level * np.random.randn(*x_train.shape)\n",
    "def linearSHM(x, t):\n",
    "    return [\n",
    "        -0.2 * x[0] + 3 * x[1],\n",
    "        -3 * x[0] - 0.2 * x[1]\n",
    "    ]\n",
    "\n",
    "\n",
    "dt = 0.01\n",
    "computations = np.arange(0, 25, dt)\n",
    "initial_con = [2, 0]\n",
    "x_data = odeint(linearSHM, initial_con, computations)\n",
    "print(x_data.shape)"
   ]
  },
  {
   "cell_type": "code",
   "execution_count": null,
   "metadata": {},
   "outputs": [],
   "source": [
    "dt = 0.01\n",
    "t_train = np.arange(0, 25, dt)\n",
    "z= [2, 0]\n",
    "\n",
    "def linearODE(x, t):\n",
    "\n",
    "      return  [-0.1 * x[0] + 2 * x[1],\n",
    "               -2 * x[0] - 0.1 * x[1]\n",
    "              ] \n",
    "\n",
    "x_train = odeint(linearODE, z, t_train)\n",
    "x_train_noisy = x_train + noise_level * np.random.rand(*x_train.shape)\n",
    "print(x_train)"
   ]
  },
  {
   "cell_type": "code",
   "execution_count": null,
   "metadata": {},
   "outputs": [],
   "source": [
    "rows, cols = (2500, 2) \n",
    "arr=[] \n",
    "for i in range(cols): \n",
    "    col = [] \n",
    "    for j in range(rows): \n",
    "        col.append(0) \n",
    "    arr.append(col) \n",
    "print(arr)  \n",
    "  "
   ]
  },
  {
   "cell_type": "code",
   "execution_count": null,
   "metadata": {},
   "outputs": [],
   "source": [
    "x=[(dt)*(-.2)*theta + (dt)*((3)*theta_dot) + np.sqrt(dt)*(0.0)*(np.random.randn()),\n",
    "           (dt)*(-.2)*theta_dot + (dt)*((-g/l)*theta)]\n",
    "        i=0\n",
    "        z[i][0]=theta\n",
    "        z[i][1]=theta_dot\n",
    "        i+=1\n"
   ]
  },
  {
   "cell_type": "code",
   "execution_count": 75,
   "metadata": {},
   "outputs": [],
   "source": [
    "g=-9\n",
    "l=3\n",
    "initial_cond=[2,0]\n",
    "\n",
    "def dataGen1(t):\n",
    "    theta= initial_cond[0]\n",
    "    theta_dot=initial_cond[1]\n",
    "    dt=0.01\n",
    "    x=np.empty([2500, 2])\n",
    "    for time in np.arange(0, t, dt):\n",
    "        x0=(-.2)*(theta) + (dt)*(theta_dot) \n",
    "        x1=(-.2)*(theta_dot) + (dt)*((-g/l)*theta)\n",
    "        theta=x0\n",
    "        theta_dot=x1\n",
    "        return theta,theta_dot \n",
    "        "
   ]
  },
  {
   "cell_type": "code",
   "execution_count": 76,
   "metadata": {},
   "outputs": [
    {
     "name": "stdout",
     "output_type": "stream",
     "text": [
      "(-0.4, 0.06)\n"
     ]
    }
   ],
   "source": [
    "#np.set_printoptions(formatter={'float_kind':'{:f}'.format})\n",
    "x_data_noise=dataGen1(25)\n",
    "print(x_data_noise)"
   ]
  },
  {
   "cell_type": "code",
   "execution_count": 1,
   "metadata": {},
   "outputs": [
    {
     "ename": "NameError",
     "evalue": "name 'np' is not defined",
     "output_type": "error",
     "traceback": [
      "\u001b[0;31m---------------------------------------------------------------------------\u001b[0m",
      "\u001b[0;31mNameError\u001b[0m                                 Traceback (most recent call last)",
      "\u001b[0;32m<ipython-input-1-2df7cbb5631e>\u001b[0m in \u001b[0;36m<module>\u001b[0;34m\u001b[0m\n\u001b[0;32m----> 1\u001b[0;31m \u001b[0mcomputations\u001b[0m \u001b[0;34m=\u001b[0m \u001b[0mnp\u001b[0m\u001b[0;34m.\u001b[0m\u001b[0marange\u001b[0m\u001b[0;34m(\u001b[0m\u001b[0;36m0\u001b[0m\u001b[0;34m,\u001b[0m \u001b[0;36m25\u001b[0m\u001b[0;34m,\u001b[0m \u001b[0;36m0.01\u001b[0m\u001b[0;34m)\u001b[0m\u001b[0;34m\u001b[0m\u001b[0;34m\u001b[0m\u001b[0m\n\u001b[0m\u001b[1;32m      2\u001b[0m \u001b[0;34m\u001b[0m\u001b[0m\n\u001b[1;32m      3\u001b[0m \u001b[0;34m\u001b[0m\u001b[0m\n\u001b[1;32m      4\u001b[0m \u001b[0mplot_kws\u001b[0m \u001b[0;34m=\u001b[0m \u001b[0mdict\u001b[0m\u001b[0;34m(\u001b[0m\u001b[0mlinewidth\u001b[0m\u001b[0;34m=\u001b[0m\u001b[0;36m2\u001b[0m\u001b[0;34m)\u001b[0m\u001b[0;34m\u001b[0m\u001b[0;34m\u001b[0m\u001b[0m\n\u001b[1;32m      5\u001b[0m \u001b[0mfig\u001b[0m\u001b[0;34m,\u001b[0m \u001b[0maxs\u001b[0m \u001b[0;34m=\u001b[0m \u001b[0mplt\u001b[0m\u001b[0;34m.\u001b[0m\u001b[0msubplots\u001b[0m\u001b[0;34m(\u001b[0m\u001b[0;36m1\u001b[0m\u001b[0;34m,\u001b[0m \u001b[0;36m2\u001b[0m\u001b[0;34m,\u001b[0m \u001b[0mconstrained_layout\u001b[0m\u001b[0;34m=\u001b[0m\u001b[0;32mTrue\u001b[0m\u001b[0;34m,\u001b[0m\u001b[0mfigsize\u001b[0m\u001b[0;34m=\u001b[0m\u001b[0;34m(\u001b[0m\u001b[0;36m10\u001b[0m\u001b[0;34m,\u001b[0m \u001b[0;36m4\u001b[0m\u001b[0;34m)\u001b[0m\u001b[0;34m)\u001b[0m\u001b[0;34m\u001b[0m\u001b[0;34m\u001b[0m\u001b[0m\n",
      "\u001b[0;31mNameError\u001b[0m: name 'np' is not defined"
     ]
    }
   ],
   "source": [
    "computations = np.arange(0, 25, 0.01)\n",
    "\n",
    "\n",
    "plot_kws = dict(linewidth=2)\n",
    "fig, axs = plt.subplots(1, 2, constrained_layout=True,figsize=(10, 4))\n",
    "axs[0].plot(computations, x_data_noise[:, 0], \"r\", label=\"$x_0$\", **plot_kws)\n",
    "axs[0].plot(computations, x_data_noise[:, 1], \"b\", label=\"$x_1$\", alpha=0.4, **plot_kws)\n",
    "axs[0].legend(loc=\"best\")\n",
    "axs[0].set(xlabel=\"$time (seconds)$\", ylabel=\"$x_k$\")\n",
    "\n",
    "axs[1].plot(x_data_noise[:, 0], x_data_noise[:, 1], 'r-', label=\"$x_k$\", color='r', **plot_kws)\n",
    "axs[1].set(title='Training data', xlabel='$Angle(theta)$', ylabel='$ Angular Velocity (Omega) $')\n",
    "axs[1].legend(loc=\"best\")\n",
    "fig.tight_layout\n",
    "fig.show()"
   ]
  },
  {
   "cell_type": "markdown",
   "metadata": {},
   "source": [
    "% Usher-McClelland (LCA) model - linear input-output version\n",
    "% Note the fast dynamics along the phase space diagonal before deciding\n",
    "% (clue to 1-D approximation of DDM)\n",
    "% Note also that I have balanced the leak k and inhibition b so that they\n",
    "% are the same; and that both have high values - these 2 conditions are\n",
    "% necessary to approximate to DDM\n",
    "\n",
    "\n",
    "% Model parameters \n",
    "S1=4; % Stimulus input amplitude to y1\n",
    "S2=4; % Stimulus input amplitude to y2\n",
    "b=7; % Mutual inhibitory coupling strength between the y's\n",
    "k=7; % Rate of decay of the y's\n",
    "z=1; % Decision threshold\n",
    "c=0.1; % Size of the noise\n",
    "\n",
    "\n",
    "% Initializing the y's\n",
    "y1(1)=0;\n",
    "y2(1)=0;\n",
    "\n",
    "%Define time for the \"for\" loop\n",
    "Trial_total=1000 ; % Total number of trial; you should try varying this\n",
    "T_Total=1000; % Total time\n",
    "dt=0.1; % Time step\n",
    "\n",
    "% Starting the trial \"for\" loop\n",
    "for i= 1:Trial_total\n",
    "    \n",
    "% Starting the time \"for\" loop\n",
    "    for t=1:T_Total/dt\n",
    "        \n",
    "        y1(t+1)=y1(t)+dt*(-k*y1(t)-b*y2(t)+S1)+ c*sqrt(dt)*randn;\n",
    "        y2(t+1)=y2(t)+dt*(-k*y2(t)-b*y1(t)+S1)+ c*sqrt(dt)*randn;\n",
    "        \n",
    "    end;\n",
    "    % Plot in phase (y1,y2) space\n",
    "    plot(y1,y2); title('Trajectory of network in phase space'); \n",
    "    xlabel('y_1'); ylabel('y_2'); \n",
    "    hold on;\n",
    "end;\n",
    "\n",
    "% Check whether total number of correct and error trials adds up to\n",
    "% Trial_total i.e. consistent\n",
    "disp('Total number of trials is')\n",
    "if (size(DTc,2)+size(DTe,2))==Trial_total\n",
    "    disp('consistent')\n",
    "end;\n",
    "\n",
    "% Calculate the accuracy (Divide the number of correct trials with the\n",
    "% total number of trials\n",
    "disp('Accuracy')\n",
    "size(DTc,2)/(size(DTc,2)+size(DTe,2)) % Total number of trials\n",
    "% Note: Can also be size(DTc,2)/Trial_total\n",
    "\n",
    "% Display reaction/decision time distributions (good only for large number\n",
    "% of trials e.g. Trial_total=10000)\n",
    "figure; hist(DTc,30); title('Correct DT distribution');\n",
    "figure; hist(DTe,30); title('Error DT distribution')"
   ]
  },
  {
   "cell_type": "markdown",
   "metadata": {},
   "source": [
    "# parameters\n",
    "lam = 0.9\n",
    "T = 25      # total Time duration in steps\n",
    "x0 = 2     # initial condition of x at time 0\n",
    "y0= 0 \n",
    "dt=0.01\n",
    "\n",
    "# initiatialize variables\n",
    "t = np.arange(0, T, dt)\n",
    "x = np.zeros_like(t)\n",
    "y = np.zeros_like(t)\n",
    "x[0] = x0\n",
    "y[0] = y0\n",
    "\n",
    "# Step through in time\n",
    "for k in range(len(t)-1):\n",
    "    x[k+1] = lam * x[k] + (dt)* -y[k]\n",
    "    y[k+1] = y[k]*dt+ dt*-3*x[k]\n",
    "\n",
    "# plot x as it evolves in time\n",
    "fig = plt.figure()\n",
    "plt.title('$\\lambda=%0.1f$' % lam, fontsize=16)\n",
    "plt.plot(t, x0 * lam**t, 'r') # analytic solution\n",
    "plt.plot(t, x, 'b-')          # simulated data pts\n",
    "plt.ylim(0, x0+1)\n",
    "\n",
    "plt.xlabel('t')\n",
    "plt.ylabel('x')\n",
    "plt.show()"
   ]
  },
  {
   "cell_type": "markdown",
   "metadata": {},
   "source": [
    "# parameters\n",
    "lam = 0.9\n",
    "T = 25      # total Time duration in steps\n",
    "x0 = 2     # initial condition of x at time 0\n",
    "y0= 0 \n",
    "dt=0.01\n",
    "\n",
    "# initiatialize variables\n",
    "t = np.arange(0, T, dt)\n",
    "x = np.zeros_like(t)\n",
    "y = np.zeros_like(t)\n",
    "x[0] = x0\n",
    "y[0] = y0\n",
    "\n",
    "# Step through in time\n",
    "for k in range(len(t)-1):\n",
    "    x[k+1] = dt* x[k] + lam *dt* -y[k]\n",
    "    y[k+1] = -y[k]*dt+ dt*-3*x[k]\n",
    "    print(x[k],y[k])\n",
    "    \n"
   ]
  },
  {
   "cell_type": "markdown",
   "metadata": {},
   "source": [
    "g=9        #gravity aprrox\n",
    "l=3         #pendulum length\n",
    "lam = 0.2   #decay \n",
    "c = 0.5    #noise\n",
    "T = 25      #total Time duration in steps\n",
    "x0 = 2     #initial condition of x at time 0\n",
    "y0= 0      #initial condition of y at time 0\n",
    "dt=0.01    #timestep\n",
    "\n",
    "# initiatialize variables\n",
    "t = np.arange(0, T, dt)\n",
    "x = np.zeros_like(t)\n",
    "y = np.zeros_like(t)\n",
    "x[0] = x0  #theta\n",
    "y[0] = y0  #theta_dot\n",
    "\n",
    "# Step through in time\n",
    "for k in range(len(t)-1):\n",
    "    x[k+1] = x[k]+dt*(-lam*x[k] + 3*y[k]) + np.sqrt(dt)*(c)*(np.random.randn())\n",
    "    y[k+1] = y[k]+dt*(-lam*y[k] + (-g/l)*x[k])\n",
    "    #print(x[k],y[k])\n",
    "\n",
    "    \n",
    "#fit to array    \n",
    "x_data_1= np.vstack((x, y)).T\n",
    "print(x_data_1)"
   ]
  },
  {
   "cell_type": "code",
   "execution_count": 60,
   "metadata": {},
   "outputs": [
    {
     "name": "stdout",
     "output_type": "stream",
     "text": [
      "x0' = 0.027 1 + 0.072 x0 + 3.033 x1\n",
      "x1' = -2.999 x0 + -0.154 x1\n"
     ]
    }
   ],
   "source": [
    "poly_order = 1\n",
    "threshold = 0.01\n",
    "\n",
    "model = ps.SINDy(\n",
    "    optimizer=ps.STLSQ(threshold=threshold),\n",
    "    feature_library=ps.PolynomialLibrary(degree=poly_order),\n",
    ")\n",
    "model.fit(x_data_1, t=dt)\n",
    "model.print()"
   ]
  },
  {
   "cell_type": "code",
   "execution_count": 61,
   "metadata": {},
   "outputs": [
    {
     "data": {
      "image/png": "[encoded data removed]",
      "text/plain": [
       "<Figure size 720x288 with 2 Axes>"
      ]
     },
     "metadata": {
      "needs_background": "light"
     },
     "output_type": "display_data"
    }
   ],
   "source": [
    "initial_con_1 = [2,0]\n",
    "x_sim = model.simulate(initial_con_1, t)\n",
    "\n",
    "\n",
    "plot_kws = dict(linewidth=2)\n",
    "fig, axs = plt.subplots(1, 2, constrained_layout=True,figsize=(10, 4))\n",
    "axs[0].plot(t, x_data_1[:, 0], \"r\", label=\"$x_0$\", **plot_kws)\n",
    "axs[0].plot(t, x_data_1[:, 1], \"b\", label=\"$x_1$\", alpha=0.4, **plot_kws)\n",
    "axs[0].plot(t, x_sim[:, 0], \"k--\", label=\"model\", **plot_kws)\n",
    "axs[0].plot(t, x_sim[:, 1], \"k--\")\n",
    "axs[0].legend(loc=\"best\")\n",
    "axs[0].set(xlabel=\"$time (seconds)$\", ylabel=\"$x_k$\")\n",
    "\n",
    "axs[1].plot(x_data_1[:, 0], x_data_1[:, 1], 'r-', label=\"$x_k$\", color='r', **plot_kws)\n",
    "axs[1].plot(x_sim[:, 0], x_sim[:, 1], 'b--', label=\"model\", color='b', **plot_kws)\n",
    "axs[1].set(title='Training data', xlabel='$Angle(theta)$', ylabel='$ Angular Velocity (Omega) $')\n",
    "axs[1].legend(loc=\"best\")\n",
    "fig.tight_layout\n",
    "fig.show()"
   ]
  },
  {
   "cell_type": "code",
   "execution_count": 43,
   "metadata": {},
   "outputs": [],
   "source": [
    " #+ \"c * np.random.standard_normal(size=1)\" or"
   ]
  },
  {
   "cell_type": "code",
   "execution_count": 453,
   "metadata": {},
   "outputs": [],
   "source": [
    "#noise + \"c * np.random.standard_normal(size=1)\" or \"np.sqrt(dt)*(c)*(np.random.randn())\"\n",
    "g=9        #gravity aprrox\n",
    "l=3         #pendulum length\n",
    "lam = 0.2   #decay \n",
    "c = 0    #noise\n",
    "T = 25      #total Time duration in steps\n",
    "x0 = 2     #initial condition of x at time 0\n",
    "y0= 0      #initial condition of y at time 0\n",
    "dt=0.01    #timestep\n",
    "\n",
    "# initiatialize variables\n",
    "t = np.arange(0, T, dt)\n",
    "x = np.zeros_like(t)\n",
    "y = np.zeros_like(t)\n",
    "x[0] = x0  #theta\n",
    "y[0] = y0  #theta_dot\n",
    "\n",
    "#Sindy\n",
    "poly_order = 1\n",
    "threshold = .105\n",
    "smoothed_fd=ps.SmoothedFiniteDifference()\n",
    "#fd_drop_endpoints = ps.FiniteDifference(drop_endpoints=True)\n",
    "\n",
    "def getData():\n",
    "    # Step through in time\n",
    "    for k in range(len(t)-1):\n",
    "        x[k+1] = x[k]+dt*(-lam*x[k] + 3*y[k]) + np.sqrt(dt)*(c)*(np.random.randn())\n",
    "        y[k+1] = y[k]+dt*(-lam*y[k] + (-g/l)*x[k])\n",
    "        #print(x[k],y[k])   \n",
    "    #fit to array    \n",
    "    x_data= np.vstack((x, y)).T\n",
    "    return x_data;\n",
    "\n",
    "\n",
    "\n",
    "def getModel(data):\n",
    "    modelv1 = ps.SINDy(\n",
    "        optimizer=ps.STLSQ(threshold=threshold),\n",
    "        feature_library=ps.PolynomialLibrary(degree=poly_order),\n",
    "        differentiation_method=smoothed_fd,\n",
    "    )\n",
    "    modelv1.fit(data, t=dt)\n",
    "    modelv1.print()\n",
    "\n",
    "\n",
    "\n"
   ]
  },
  {
   "cell_type": "code",
   "execution_count": 454,
   "metadata": {},
   "outputs": [],
   "source": [
    "x_data_1=getData()\n",
    "x_data_2=getData()\n",
    "x_data_3=getData()\n",
    "x_data_4=getData()\n",
    "x_data_5=getData()\n",
    "x_data_6=getData()\n",
    "x_data_7=getData()\n",
    "x_data_8=getData()\n",
    "x_data_9=getData()\n",
    "x_data_10=getData()\n",
    "x_total=(x_data_1+x_data_2+x_data_3+x_data_4+x_data_5+x_data_6+x_data_7+x_data_8+x_data_9+x_data_10)\n",
    "x_avg=np.true_divide(x_total, 10)\n",
    "#print(x_avg)"
   ]
  },
  {
   "cell_type": "code",
   "execution_count": 455,
   "metadata": {},
   "outputs": [
    {
     "name": "stdout",
     "output_type": "stream",
     "text": [
      "x0' = -0.155 x0 + 3.005 x1\n",
      "x1' = -3.005 x0 + -0.155 x1\n"
     ]
    }
   ],
   "source": [
    "avg=getModel(x_avg)"
   ]
  },
  {
   "cell_type": "code",
   "execution_count": 449,
   "metadata": {},
   "outputs": [
    {
     "name": "stdout",
     "output_type": "stream",
     "text": [
      "x0' = -0.155 x0 + 3.005 x1\n",
      "x1' = -3.005 x0 + -0.155 x1\n",
      "\n",
      "x0' = -0.155 x0 + 3.005 x1\n",
      "x1' = -3.005 x0 + -0.155 x1\n",
      "\n",
      "x0' = -0.155 x0 + 3.005 x1\n",
      "x1' = -3.005 x0 + -0.155 x1\n",
      "\n",
      "x0' = -0.155 x0 + 3.005 x1\n",
      "x1' = -3.005 x0 + -0.155 x1\n",
      "\n",
      "x0' = -0.155 x0 + 3.005 x1\n",
      "x1' = -3.005 x0 + -0.155 x1\n",
      "\n",
      "x0' = -0.155 x0 + 3.005 x1\n",
      "x1' = -3.005 x0 + -0.155 x1\n",
      "\n",
      "x0' = -0.155 x0 + 3.005 x1\n",
      "x1' = -3.005 x0 + -0.155 x1\n",
      "\n",
      "x0' = -0.155 x0 + 3.005 x1\n",
      "x1' = -3.005 x0 + -0.155 x1\n",
      "\n",
      "x0' = -0.155 x0 + 3.005 x1\n",
      "x1' = -3.005 x0 + -0.155 x1\n",
      "\n",
      "x0' = -0.155 x0 + 3.005 x1\n",
      "x1' = -3.005 x0 + -0.155 x1\n",
      "\n",
      "x0' = -0.155 x0 + 3.005 x1\n",
      "x1' = -3.005 x0 + -0.155 x1\n"
     ]
    }
   ],
   "source": [
    "Model_1=getModel(x_data_1)\n",
    "print(\"\")\n",
    "Model_2=getModel(x_data_2)\n",
    "print(\"\")\n",
    "Model_3=getModel(x_data_3)\n",
    "print(\"\")\n",
    "Model_4=getModel(x_data_4)\n",
    "print(\"\")\n",
    "Model_5=getModel(x_data_5)\n",
    "print(\"\")\n",
    "Model_6=getModel(x_data_6)\n",
    "print(\"\")\n",
    "Model_7=getModel(x_data_7)\n",
    "print(\"\")\n",
    "Model_8=getModel(x_data_8)\n",
    "print(\"\")\n",
    "Model_9=getModel(x_data_9)\n",
    "print(\"\")\n",
    "Model_10=getModel(x_data_10)\n",
    "print(\"\")\n",
    "avg=getModel(x_avg)"
   ]
  },
  {
   "cell_type": "code",
   "execution_count": 47,
   "metadata": {},
   "outputs": [
    {
     "ename": "NameError",
     "evalue": "name 't' is not defined",
     "output_type": "error",
     "traceback": [
      "\u001b[0;31m---------------------------------------------------------------------------\u001b[0m",
      "\u001b[0;31mNameError\u001b[0m                                 Traceback (most recent call last)",
      "\u001b[0;32m<ipython-input-47-c309c0beac22>\u001b[0m in \u001b[0;36m<module>\u001b[0;34m\u001b[0m\n\u001b[1;32m      2\u001b[0m \u001b[0;34m\u001b[0m\u001b[0m\n\u001b[1;32m      3\u001b[0m \u001b[0mfig\u001b[0m\u001b[0;34m,\u001b[0m \u001b[0maxs\u001b[0m \u001b[0;34m=\u001b[0m \u001b[0mplt\u001b[0m\u001b[0;34m.\u001b[0m\u001b[0msubplots\u001b[0m\u001b[0;34m(\u001b[0m\u001b[0;36m1\u001b[0m\u001b[0;34m,\u001b[0m \u001b[0;36m2\u001b[0m\u001b[0;34m,\u001b[0m \u001b[0mconstrained_layout\u001b[0m\u001b[0;34m=\u001b[0m\u001b[0;32mTrue\u001b[0m\u001b[0;34m,\u001b[0m\u001b[0mfigsize\u001b[0m\u001b[0;34m=\u001b[0m\u001b[0;34m(\u001b[0m\u001b[0;36m10\u001b[0m\u001b[0;34m,\u001b[0m \u001b[0;36m4\u001b[0m\u001b[0;34m)\u001b[0m\u001b[0;34m)\u001b[0m\u001b[0;34m\u001b[0m\u001b[0;34m\u001b[0m\u001b[0m\n\u001b[0;32m----> 4\u001b[0;31m \u001b[0maxs\u001b[0m\u001b[0;34m[\u001b[0m\u001b[0;36m0\u001b[0m\u001b[0;34m]\u001b[0m\u001b[0;34m.\u001b[0m\u001b[0mplot\u001b[0m\u001b[0;34m(\u001b[0m\u001b[0mt\u001b[0m\u001b[0;34m,\u001b[0m \u001b[0mx_avg\u001b[0m\u001b[0;34m[\u001b[0m\u001b[0;34m:\u001b[0m\u001b[0;34m,\u001b[0m \u001b[0;36m0\u001b[0m\u001b[0;34m]\u001b[0m\u001b[0;34m,\u001b[0m \u001b[0;34m\"r\"\u001b[0m\u001b[0;34m,\u001b[0m \u001b[0mlabel\u001b[0m\u001b[0;34m=\u001b[0m\u001b[0;34m\"$x_0$\"\u001b[0m\u001b[0;34m,\u001b[0m \u001b[0;34m**\u001b[0m\u001b[0mplot_kws\u001b[0m\u001b[0;34m)\u001b[0m\u001b[0;34m\u001b[0m\u001b[0;34m\u001b[0m\u001b[0m\n\u001b[0m\u001b[1;32m      5\u001b[0m \u001b[0maxs\u001b[0m\u001b[0;34m[\u001b[0m\u001b[0;36m0\u001b[0m\u001b[0;34m]\u001b[0m\u001b[0;34m.\u001b[0m\u001b[0mplot\u001b[0m\u001b[0;34m(\u001b[0m\u001b[0mt\u001b[0m\u001b[0;34m,\u001b[0m \u001b[0mx_avg\u001b[0m\u001b[0;34m[\u001b[0m\u001b[0;34m:\u001b[0m\u001b[0;34m,\u001b[0m \u001b[0;36m1\u001b[0m\u001b[0;34m]\u001b[0m\u001b[0;34m,\u001b[0m \u001b[0;34m\"b\"\u001b[0m\u001b[0;34m,\u001b[0m \u001b[0mlabel\u001b[0m\u001b[0;34m=\u001b[0m\u001b[0;34m\"$x_1$\"\u001b[0m\u001b[0;34m,\u001b[0m \u001b[0malpha\u001b[0m\u001b[0;34m=\u001b[0m\u001b[0;36m0.4\u001b[0m\u001b[0;34m,\u001b[0m \u001b[0;34m**\u001b[0m\u001b[0mplot_kws\u001b[0m\u001b[0;34m)\u001b[0m\u001b[0;34m\u001b[0m\u001b[0;34m\u001b[0m\u001b[0m\n\u001b[1;32m      6\u001b[0m \u001b[0maxs\u001b[0m\u001b[0;34m[\u001b[0m\u001b[0;36m0\u001b[0m\u001b[0;34m]\u001b[0m\u001b[0;34m.\u001b[0m\u001b[0mlegend\u001b[0m\u001b[0;34m(\u001b[0m\u001b[0mloc\u001b[0m\u001b[0;34m=\u001b[0m\u001b[0;34m\"best\"\u001b[0m\u001b[0;34m)\u001b[0m\u001b[0;34m\u001b[0m\u001b[0;34m\u001b[0m\u001b[0m\n",
      "\u001b[0;31mNameError\u001b[0m: name 't' is not defined"
     ]
    },
    {
     "data": {
      "image/png": "[encoded data removed]",
      "text/plain": [
       "<Figure size 720x288 with 2 Axes>"
      ]
     },
     "metadata": {
      "needs_background": "light"
     },
     "output_type": "display_data"
    }
   ],
   "source": [
    "\n",
    "plot_kws = dict(linewidth=2)\n",
    "\n",
    "fig, axs = plt.subplots(1, 2, constrained_layout=True,figsize=(10, 4))\n",
    "axs[0].plot(t, x_avg[:, 0], \"r\", label=\"$x_0$\", **plot_kws)\n",
    "axs[0].plot(t, x_avg[:, 1], \"b\", label=\"$x_1$\", alpha=0.4, **plot_kws)\n",
    "axs[0].legend(loc=\"best\")\n",
    "axs[0].set(xlabel=\"$time (seconds)$\", ylabel=\"$x_k$\")\n",
    "fig.show()"
   ]
  },
  {
   "cell_type": "code",
   "execution_count": 2,
   "metadata": {},
   "outputs": [
    {
     "ename": "NameError",
     "evalue": "name 'plt' is not defined",
     "output_type": "error",
     "traceback": [
      "\u001b[0;31m---------------------------------------------------------------------------\u001b[0m",
      "\u001b[0;31mNameError\u001b[0m                                 Traceback (most recent call last)",
      "\u001b[0;32m<ipython-input-2-d2d2e6659ffa>\u001b[0m in \u001b[0;36m<module>\u001b[0;34m\u001b[0m\n\u001b[1;32m     17\u001b[0m \u001b[0;34m\u001b[0m\u001b[0m\n\u001b[1;32m     18\u001b[0m \u001b[0mresult\u001b[0m \u001b[0;34m=\u001b[0m \u001b[0msdeint\u001b[0m\u001b[0;34m.\u001b[0m\u001b[0mitoint\u001b[0m\u001b[0;34m(\u001b[0m\u001b[0mf\u001b[0m\u001b[0;34m,\u001b[0m \u001b[0mG\u001b[0m\u001b[0;34m,\u001b[0m \u001b[0mx0\u001b[0m\u001b[0;34m,\u001b[0m \u001b[0mtspan\u001b[0m\u001b[0;34m)\u001b[0m\u001b[0;34m\u001b[0m\u001b[0;34m\u001b[0m\u001b[0m\n\u001b[0;32m---> 19\u001b[0;31m \u001b[0mplt\u001b[0m\u001b[0;34m.\u001b[0m\u001b[0mplot\u001b[0m\u001b[0;34m(\u001b[0m\u001b[0mresult\u001b[0m\u001b[0;34m)\u001b[0m\u001b[0;34m\u001b[0m\u001b[0;34m\u001b[0m\u001b[0m\n\u001b[0m\u001b[1;32m     20\u001b[0m \u001b[0mplt\u001b[0m\u001b[0;34m.\u001b[0m\u001b[0mshow\u001b[0m\u001b[0;34m(\u001b[0m\u001b[0;34m)\u001b[0m\u001b[0;34m\u001b[0m\u001b[0;34m\u001b[0m\u001b[0m\n",
      "\u001b[0;31mNameError\u001b[0m: name 'plt' is not defined"
     ]
    }
   ],
   "source": [
    "import numpy as np\n",
    "import sdeint\n",
    "\n",
    "A = np.array([[-0.2, 3],\n",
    "              [ -3, -0.2]])\n",
    "\n",
    "B = np.diag([np.sqrt(0.1)*(1)*(np.random.randn()), np.sqrt(0.1)*(1)*(np.random.randn())]) # diagonal, so independent driving Wiener processes\n",
    "\n",
    "tspan = np.linspace(0.0, 25, 2500)\n",
    "x0 = np.array([2., 0])\n",
    "\n",
    "def f(x, t):\n",
    "    return A.dot(x)\n",
    "\n",
    "def G(x, t):\n",
    "    return B\n",
    "\n",
    "result = sdeint.itoint(f, G, x0, tspan)\n",
    "plt.plot(result)\n",
    "plt.show()"
   ]
  },
  {
   "cell_type": "code",
   "execution_count": 496,
   "metadata": {},
   "outputs": [
    {
     "ename": "ValueError",
     "evalue": "x and y must have same first dimension, but have shapes (5,) and (4,)",
     "output_type": "error",
     "traceback": [
      "\u001b[0;31m---------------------------------------------------------------------------\u001b[0m",
      "\u001b[0;31mValueError\u001b[0m                                Traceback (most recent call last)",
      "\u001b[0;32m<ipython-input-496-b3288b5fd3db>\u001b[0m in \u001b[0;36m<module>\u001b[0;34m\u001b[0m\n\u001b[1;32m     12\u001b[0m \u001b[0;34m\u001b[0m\u001b[0m\n\u001b[1;32m     13\u001b[0m \u001b[0;31m# Plot each graph, and manually set the y tick values\u001b[0m\u001b[0;34m\u001b[0m\u001b[0;34m\u001b[0m\u001b[0;34m\u001b[0m\u001b[0m\n\u001b[0;32m---> 14\u001b[0;31m \u001b[0maxs\u001b[0m\u001b[0;34m[\u001b[0m\u001b[0;36m0\u001b[0m\u001b[0;34m]\u001b[0m\u001b[0;34m.\u001b[0m\u001b[0mplot\u001b[0m\u001b[0;34m(\u001b[0m\u001b[0mt\u001b[0m\u001b[0;34m,\u001b[0m \u001b[0ms1\u001b[0m\u001b[0;34m)\u001b[0m\u001b[0;34m\u001b[0m\u001b[0;34m\u001b[0m\u001b[0m\n\u001b[0m\u001b[1;32m     15\u001b[0m \u001b[0;31m#axs[0].set_yticks(np.arange(-0.9, 1.0, 0.4))\u001b[0m\u001b[0;34m\u001b[0m\u001b[0;34m\u001b[0m\u001b[0;34m\u001b[0m\u001b[0m\n\u001b[1;32m     16\u001b[0m \u001b[0;31m#axs[0].set_ylim(-1, 1)\u001b[0m\u001b[0;34m\u001b[0m\u001b[0;34m\u001b[0m\u001b[0;34m\u001b[0m\u001b[0m\n",
      "\u001b[0;32m~/my_project/my_project_env/my_project_env/lib/python3.8/site-packages/matplotlib/axes/_axes.py\u001b[0m in \u001b[0;36mplot\u001b[0;34m(self, scalex, scaley, data, *args, **kwargs)\u001b[0m\n\u001b[1;32m   1741\u001b[0m         \"\"\"\n\u001b[1;32m   1742\u001b[0m         \u001b[0mkwargs\u001b[0m \u001b[0;34m=\u001b[0m \u001b[0mcbook\u001b[0m\u001b[0;34m.\u001b[0m\u001b[0mnormalize_kwargs\u001b[0m\u001b[0;34m(\u001b[0m\u001b[0mkwargs\u001b[0m\u001b[0;34m,\u001b[0m \u001b[0mmlines\u001b[0m\u001b[0;34m.\u001b[0m\u001b[0mLine2D\u001b[0m\u001b[0;34m)\u001b[0m\u001b[0;34m\u001b[0m\u001b[0;34m\u001b[0m\u001b[0m\n\u001b[0;32m-> 1743\u001b[0;31m         \u001b[0mlines\u001b[0m \u001b[0;34m=\u001b[0m \u001b[0;34m[\u001b[0m\u001b[0;34m*\u001b[0m\u001b[0mself\u001b[0m\u001b[0;34m.\u001b[0m\u001b[0m_get_lines\u001b[0m\u001b[0;34m(\u001b[0m\u001b[0;34m*\u001b[0m\u001b[0margs\u001b[0m\u001b[0;34m,\u001b[0m \u001b[0mdata\u001b[0m\u001b[0;34m=\u001b[0m\u001b[0mdata\u001b[0m\u001b[0;34m,\u001b[0m \u001b[0;34m**\u001b[0m\u001b[0mkwargs\u001b[0m\u001b[0;34m)\u001b[0m\u001b[0;34m]\u001b[0m\u001b[0;34m\u001b[0m\u001b[0;34m\u001b[0m\u001b[0m\n\u001b[0m\u001b[1;32m   1744\u001b[0m         \u001b[0;32mfor\u001b[0m \u001b[0mline\u001b[0m \u001b[0;32min\u001b[0m \u001b[0mlines\u001b[0m\u001b[0;34m:\u001b[0m\u001b[0;34m\u001b[0m\u001b[0;34m\u001b[0m\u001b[0m\n\u001b[1;32m   1745\u001b[0m             \u001b[0mself\u001b[0m\u001b[0;34m.\u001b[0m\u001b[0madd_line\u001b[0m\u001b[0;34m(\u001b[0m\u001b[0mline\u001b[0m\u001b[0;34m)\u001b[0m\u001b[0;34m\u001b[0m\u001b[0;34m\u001b[0m\u001b[0m\n",
      "\u001b[0;32m~/my_project/my_project_env/my_project_env/lib/python3.8/site-packages/matplotlib/axes/_base.py\u001b[0m in \u001b[0;36m__call__\u001b[0;34m(self, data, *args, **kwargs)\u001b[0m\n\u001b[1;32m    271\u001b[0m                 \u001b[0mthis\u001b[0m \u001b[0;34m+=\u001b[0m \u001b[0margs\u001b[0m\u001b[0;34m[\u001b[0m\u001b[0;36m0\u001b[0m\u001b[0;34m]\u001b[0m\u001b[0;34m,\u001b[0m\u001b[0;34m\u001b[0m\u001b[0;34m\u001b[0m\u001b[0m\n\u001b[1;32m    272\u001b[0m                 \u001b[0margs\u001b[0m \u001b[0;34m=\u001b[0m \u001b[0margs\u001b[0m\u001b[0;34m[\u001b[0m\u001b[0;36m1\u001b[0m\u001b[0;34m:\u001b[0m\u001b[0;34m]\u001b[0m\u001b[0;34m\u001b[0m\u001b[0;34m\u001b[0m\u001b[0m\n\u001b[0;32m--> 273\u001b[0;31m             \u001b[0;32myield\u001b[0m \u001b[0;32mfrom\u001b[0m \u001b[0mself\u001b[0m\u001b[0;34m.\u001b[0m\u001b[0m_plot_args\u001b[0m\u001b[0;34m(\u001b[0m\u001b[0mthis\u001b[0m\u001b[0;34m,\u001b[0m \u001b[0mkwargs\u001b[0m\u001b[0;34m)\u001b[0m\u001b[0;34m\u001b[0m\u001b[0;34m\u001b[0m\u001b[0m\n\u001b[0m\u001b[1;32m    274\u001b[0m \u001b[0;34m\u001b[0m\u001b[0m\n\u001b[1;32m    275\u001b[0m     \u001b[0;32mdef\u001b[0m \u001b[0mget_next_color\u001b[0m\u001b[0;34m(\u001b[0m\u001b[0mself\u001b[0m\u001b[0;34m)\u001b[0m\u001b[0;34m:\u001b[0m\u001b[0;34m\u001b[0m\u001b[0;34m\u001b[0m\u001b[0m\n",
      "\u001b[0;32m~/my_project/my_project_env/my_project_env/lib/python3.8/site-packages/matplotlib/axes/_base.py\u001b[0m in \u001b[0;36m_plot_args\u001b[0;34m(self, tup, kwargs)\u001b[0m\n\u001b[1;32m    397\u001b[0m \u001b[0;34m\u001b[0m\u001b[0m\n\u001b[1;32m    398\u001b[0m         \u001b[0;32mif\u001b[0m \u001b[0mx\u001b[0m\u001b[0;34m.\u001b[0m\u001b[0mshape\u001b[0m\u001b[0;34m[\u001b[0m\u001b[0;36m0\u001b[0m\u001b[0;34m]\u001b[0m \u001b[0;34m!=\u001b[0m \u001b[0my\u001b[0m\u001b[0;34m.\u001b[0m\u001b[0mshape\u001b[0m\u001b[0;34m[\u001b[0m\u001b[0;36m0\u001b[0m\u001b[0;34m]\u001b[0m\u001b[0;34m:\u001b[0m\u001b[0;34m\u001b[0m\u001b[0;34m\u001b[0m\u001b[0m\n\u001b[0;32m--> 399\u001b[0;31m             raise ValueError(f\"x and y must have same first dimension, but \"\n\u001b[0m\u001b[1;32m    400\u001b[0m                              f\"have shapes {x.shape} and {y.shape}\")\n\u001b[1;32m    401\u001b[0m         \u001b[0;32mif\u001b[0m \u001b[0mx\u001b[0m\u001b[0;34m.\u001b[0m\u001b[0mndim\u001b[0m \u001b[0;34m>\u001b[0m \u001b[0;36m2\u001b[0m \u001b[0;32mor\u001b[0m \u001b[0my\u001b[0m\u001b[0;34m.\u001b[0m\u001b[0mndim\u001b[0m \u001b[0;34m>\u001b[0m \u001b[0;36m2\u001b[0m\u001b[0;34m:\u001b[0m\u001b[0;34m\u001b[0m\u001b[0;34m\u001b[0m\u001b[0m\n",
      "\u001b[0;31mValueError\u001b[0m: x and y must have same first dimension, but have shapes (5,) and (4,)"
     ]
    },
    {
     "data": {
      "image/png": "[encoded data removed]",
      "text/plain": [
       "<Figure size 432x288 with 3 Axes>"
      ]
     },
     "metadata": {
      "needs_background": "light"
     },
     "output_type": "display_data"
    }
   ],
   "source": [
    "# if using a Jupyter notebook, include:\n",
    "\n",
    "\n",
    "t = [0,0.25,0.5,0.75,1.0]\n",
    "\n",
    "s1 = [-.2,3,-3,-.2]\n",
    "s2 = [-.2,3,-3,-.2]\n",
    "s3 = [-.2,3,-3,-.2]\n",
    "\n",
    "fig, axs = plt.subplots(3, 1, sharex=True)\n",
    "\n",
    "\n",
    "# Plot each graph, and manually set the y tick values\n",
    "axs[0].plot(t, s1)\n",
    "#axs[0].set_yticks(np.arange(-0.9, 1.0, 0.4))\n",
    "#axs[0].set_ylim(-1, 1)\n",
    "\n",
    "axs[1].plot(t, s2)\n",
    "#axs[1].set_yticks(np.arange(0.1, 1.0, 0.2))\n",
    "#axs[1].set_ylim(0, 1)\n",
    "\n",
    "axs[2].plot(t, s3)\n",
    "#axs[2].set_yticks(np.arange(-0.9, 1.0, 0.4))\n",
    "#axs[2].set_ylim(-1, 1)\n",
    "\n",
    "plt.show()"
   ]
  },
  {
   "cell_type": "code",
   "execution_count": 503,
   "metadata": {},
   "outputs": [
    {
     "ename": "ValueError",
     "evalue": "x and y must have same first dimension, but have shapes (5,) and (1,)",
     "output_type": "error",
     "traceback": [
      "\u001b[0;31m---------------------------------------------------------------------------\u001b[0m",
      "\u001b[0;31mValueError\u001b[0m                                Traceback (most recent call last)",
      "\u001b[0;32m<ipython-input-503-2e982e561afe>\u001b[0m in \u001b[0;36m<module>\u001b[0;34m\u001b[0m\n\u001b[1;32m      9\u001b[0m \u001b[0;34m\u001b[0m\u001b[0m\n\u001b[1;32m     10\u001b[0m \u001b[0;31m# Plot each graph, and manually set the y tick values\u001b[0m\u001b[0;34m\u001b[0m\u001b[0;34m\u001b[0m\u001b[0;34m\u001b[0m\u001b[0m\n\u001b[0;32m---> 11\u001b[0;31m \u001b[0maxs\u001b[0m\u001b[0;34m[\u001b[0m\u001b[0;36m0\u001b[0m\u001b[0;34m]\u001b[0m\u001b[0;34m.\u001b[0m\u001b[0mplot\u001b[0m\u001b[0;34m(\u001b[0m\u001b[0mt\u001b[0m\u001b[0;34m,\u001b[0m \u001b[0ms1\u001b[0m\u001b[0;34m)\u001b[0m\u001b[0;34m\u001b[0m\u001b[0;34m\u001b[0m\u001b[0m\n\u001b[0m\u001b[1;32m     12\u001b[0m \u001b[0maxs\u001b[0m\u001b[0;34m[\u001b[0m\u001b[0;36m0\u001b[0m\u001b[0;34m]\u001b[0m\u001b[0;34m.\u001b[0m\u001b[0mset_yticks\u001b[0m\u001b[0;34m(\u001b[0m\u001b[0mnp\u001b[0m\u001b[0;34m.\u001b[0m\u001b[0marange\u001b[0m\u001b[0;34m(\u001b[0m\u001b[0;34m-\u001b[0m\u001b[0;36m0.9\u001b[0m\u001b[0;34m,\u001b[0m \u001b[0;36m1.0\u001b[0m\u001b[0;34m,\u001b[0m \u001b[0;36m0.4\u001b[0m\u001b[0;34m)\u001b[0m\u001b[0;34m)\u001b[0m\u001b[0;34m\u001b[0m\u001b[0;34m\u001b[0m\u001b[0m\n\u001b[1;32m     13\u001b[0m \u001b[0maxs\u001b[0m\u001b[0;34m[\u001b[0m\u001b[0;36m0\u001b[0m\u001b[0;34m]\u001b[0m\u001b[0;34m.\u001b[0m\u001b[0mset_ylim\u001b[0m\u001b[0;34m(\u001b[0m\u001b[0;34m-\u001b[0m\u001b[0;36m1\u001b[0m\u001b[0;34m,\u001b[0m \u001b[0;36m1\u001b[0m\u001b[0;34m)\u001b[0m\u001b[0;34m\u001b[0m\u001b[0;34m\u001b[0m\u001b[0m\n",
      "\u001b[0;32m~/my_project/my_project_env/my_project_env/lib/python3.8/site-packages/matplotlib/axes/_axes.py\u001b[0m in \u001b[0;36mplot\u001b[0;34m(self, scalex, scaley, data, *args, **kwargs)\u001b[0m\n\u001b[1;32m   1741\u001b[0m         \"\"\"\n\u001b[1;32m   1742\u001b[0m         \u001b[0mkwargs\u001b[0m \u001b[0;34m=\u001b[0m \u001b[0mcbook\u001b[0m\u001b[0;34m.\u001b[0m\u001b[0mnormalize_kwargs\u001b[0m\u001b[0;34m(\u001b[0m\u001b[0mkwargs\u001b[0m\u001b[0;34m,\u001b[0m \u001b[0mmlines\u001b[0m\u001b[0;34m.\u001b[0m\u001b[0mLine2D\u001b[0m\u001b[0;34m)\u001b[0m\u001b[0;34m\u001b[0m\u001b[0;34m\u001b[0m\u001b[0m\n\u001b[0;32m-> 1743\u001b[0;31m         \u001b[0mlines\u001b[0m \u001b[0;34m=\u001b[0m \u001b[0;34m[\u001b[0m\u001b[0;34m*\u001b[0m\u001b[0mself\u001b[0m\u001b[0;34m.\u001b[0m\u001b[0m_get_lines\u001b[0m\u001b[0;34m(\u001b[0m\u001b[0;34m*\u001b[0m\u001b[0margs\u001b[0m\u001b[0;34m,\u001b[0m \u001b[0mdata\u001b[0m\u001b[0;34m=\u001b[0m\u001b[0mdata\u001b[0m\u001b[0;34m,\u001b[0m \u001b[0;34m**\u001b[0m\u001b[0mkwargs\u001b[0m\u001b[0;34m)\u001b[0m\u001b[0;34m]\u001b[0m\u001b[0;34m\u001b[0m\u001b[0;34m\u001b[0m\u001b[0m\n\u001b[0m\u001b[1;32m   1744\u001b[0m         \u001b[0;32mfor\u001b[0m \u001b[0mline\u001b[0m \u001b[0;32min\u001b[0m \u001b[0mlines\u001b[0m\u001b[0;34m:\u001b[0m\u001b[0;34m\u001b[0m\u001b[0;34m\u001b[0m\u001b[0m\n\u001b[1;32m   1745\u001b[0m             \u001b[0mself\u001b[0m\u001b[0;34m.\u001b[0m\u001b[0madd_line\u001b[0m\u001b[0;34m(\u001b[0m\u001b[0mline\u001b[0m\u001b[0;34m)\u001b[0m\u001b[0;34m\u001b[0m\u001b[0;34m\u001b[0m\u001b[0m\n",
      "\u001b[0;32m~/my_project/my_project_env/my_project_env/lib/python3.8/site-packages/matplotlib/axes/_base.py\u001b[0m in \u001b[0;36m__call__\u001b[0;34m(self, data, *args, **kwargs)\u001b[0m\n\u001b[1;32m    271\u001b[0m                 \u001b[0mthis\u001b[0m \u001b[0;34m+=\u001b[0m \u001b[0margs\u001b[0m\u001b[0;34m[\u001b[0m\u001b[0;36m0\u001b[0m\u001b[0;34m]\u001b[0m\u001b[0;34m,\u001b[0m\u001b[0;34m\u001b[0m\u001b[0;34m\u001b[0m\u001b[0m\n\u001b[1;32m    272\u001b[0m                 \u001b[0margs\u001b[0m \u001b[0;34m=\u001b[0m \u001b[0margs\u001b[0m\u001b[0;34m[\u001b[0m\u001b[0;36m1\u001b[0m\u001b[0;34m:\u001b[0m\u001b[0;34m]\u001b[0m\u001b[0;34m\u001b[0m\u001b[0;34m\u001b[0m\u001b[0m\n\u001b[0;32m--> 273\u001b[0;31m             \u001b[0;32myield\u001b[0m \u001b[0;32mfrom\u001b[0m \u001b[0mself\u001b[0m\u001b[0;34m.\u001b[0m\u001b[0m_plot_args\u001b[0m\u001b[0;34m(\u001b[0m\u001b[0mthis\u001b[0m\u001b[0;34m,\u001b[0m \u001b[0mkwargs\u001b[0m\u001b[0;34m)\u001b[0m\u001b[0;34m\u001b[0m\u001b[0;34m\u001b[0m\u001b[0m\n\u001b[0m\u001b[1;32m    274\u001b[0m \u001b[0;34m\u001b[0m\u001b[0m\n\u001b[1;32m    275\u001b[0m     \u001b[0;32mdef\u001b[0m \u001b[0mget_next_color\u001b[0m\u001b[0;34m(\u001b[0m\u001b[0mself\u001b[0m\u001b[0;34m)\u001b[0m\u001b[0;34m:\u001b[0m\u001b[0;34m\u001b[0m\u001b[0;34m\u001b[0m\u001b[0m\n",
      "\u001b[0;32m~/my_project/my_project_env/my_project_env/lib/python3.8/site-packages/matplotlib/axes/_base.py\u001b[0m in \u001b[0;36m_plot_args\u001b[0;34m(self, tup, kwargs)\u001b[0m\n\u001b[1;32m    397\u001b[0m \u001b[0;34m\u001b[0m\u001b[0m\n\u001b[1;32m    398\u001b[0m         \u001b[0;32mif\u001b[0m \u001b[0mx\u001b[0m\u001b[0;34m.\u001b[0m\u001b[0mshape\u001b[0m\u001b[0;34m[\u001b[0m\u001b[0;36m0\u001b[0m\u001b[0;34m]\u001b[0m \u001b[0;34m!=\u001b[0m \u001b[0my\u001b[0m\u001b[0;34m.\u001b[0m\u001b[0mshape\u001b[0m\u001b[0;34m[\u001b[0m\u001b[0;36m0\u001b[0m\u001b[0;34m]\u001b[0m\u001b[0;34m:\u001b[0m\u001b[0;34m\u001b[0m\u001b[0;34m\u001b[0m\u001b[0m\n\u001b[0;32m--> 399\u001b[0;31m             raise ValueError(f\"x and y must have same first dimension, but \"\n\u001b[0m\u001b[1;32m    400\u001b[0m                              f\"have shapes {x.shape} and {y.shape}\")\n\u001b[1;32m    401\u001b[0m         \u001b[0;32mif\u001b[0m \u001b[0mx\u001b[0m\u001b[0;34m.\u001b[0m\u001b[0mndim\u001b[0m \u001b[0;34m>\u001b[0m \u001b[0;36m2\u001b[0m \u001b[0;32mor\u001b[0m \u001b[0my\u001b[0m\u001b[0;34m.\u001b[0m\u001b[0mndim\u001b[0m \u001b[0;34m>\u001b[0m \u001b[0;36m2\u001b[0m\u001b[0;34m:\u001b[0m\u001b[0;34m\u001b[0m\u001b[0;34m\u001b[0m\u001b[0m\n",
      "\u001b[0;31mValueError\u001b[0m: x and y must have same first dimension, but have shapes (5,) and (1,)"
     ]
    },
    {
     "data": {
      "image/png": "[encoded data removed]",
      "text/plain": [
       "<Figure size 432x288 with 3 Axes>"
      ]
     },
     "metadata": {
      "needs_background": "light"
     },
     "output_type": "display_data"
    }
   ],
   "source": [
    "t = (0.0, 0.25, 0.5,0.75,1)\n",
    "\n",
    "s1 = 1\n",
    "s2 =1\n",
    "s3 = 1\n",
    "\n",
    "fig, axs = plt.subplots(3, 1, sharex=True)\n",
    "\n",
    "\n",
    "# Plot each graph, and manually set the y tick values\n",
    "axs[0].plot(t, s1)\n",
    "axs[0].set_yticks(np.arange(-0.9, 1.0, 0.4))\n",
    "axs[0].set_ylim(-1, 1)\n",
    "\n",
    "axs[1].plot(t, s2)\n",
    "axs[1].set_yticks(np.arange(0.1, 1.0, 0.2))\n",
    "axs[1].set_ylim(0, 1)\n",
    "\n",
    "axs[2].plot(t, s3)\n",
    "axs[2].set_yticks(np.arange(-0.9, 1.0, 0.4))\n",
    "axs[2].set_ylim(-1, 1)\n",
    "\n",
    "axs[2].set_xlabel(\"Noise\")\n",
    "plt.show()"
   ]
  },
  {
   "cell_type": "code",
   "execution_count": 8,
   "metadata": {},
   "outputs": [
    {
     "data": {
      "image/png": "[encoded data removed]",
      "text/plain": [
       "<Figure size 1440x1440 with 4 Axes>"
      ]
     },
     "metadata": {
      "needs_background": "light"
     },
     "output_type": "display_data"
    }
   ],
   "source": [
    "#coeff_1_eqn_1\n",
    "eqn1_0 = np.random.normal(-0.2, 0.0, 10)\n",
    "eqn1_n1 = np.random.normal(-0.2008, 0.006, 10)\n",
    "eqn1_n2 = np.random.normal(-0.1998, 0.0295, 10)\n",
    "eqn1_n3 = np.random.normal(-0.1963, 0.0162, 10)\n",
    "eqn1_n4 = np.random.normal(-.1651, 0.0360, 10)\n",
    "eqn1_n5 =np.random.normal(-0.1654, 0.297,10)\n",
    "eqn1_n6 =np.random.normal(-.1633,.0654,10)\n",
    "coeff_1_eqn_1=[eqn1_0, eqn1_n1, eqn1_n2, eqn1_n3,eqn1_n4,eqn1_n5, eqn1_n6]\n",
    "\n",
    "#coeff_2_eqn_1\n",
    "eqn1a_0 = np.random.normal(3, 0.0, 100)\n",
    "eqn1a_n1 = np.random.normal(2.999, 0.0052, 10)\n",
    "eqn1a_n2 = np.random.normal(3.003, 0.0095, 10)\n",
    "eqn1a_n3 = np.random.normal(3.0041, 0.0281, 10)\n",
    "eqn1a_n4 = np.random.normal(3.006, 0.0439, 10)\n",
    "eqn1a_n5 =np.random.normal(2.9817,0.0393,10)\n",
    "eqn1a_n6 =np.random.normal(2.9893,0.0769,10)\n",
    "coeff_2_eqn_1=[eqn1a_0, eqn1a_n1, eqn1a_n2, eqn1a_n3,eqn1a_n4,eqn1a_n5, eqn1a_n6 ]\n",
    "\n",
    "#coeff_1_eqn_2\n",
    "eqn2_0 = np.random.normal(-3, 0.0, 100)\n",
    "eqn2_n1 = np.random.normal(-3.001, 0.0032, 10)\n",
    "eqn2_n2 = np.random.normal(-2.9997, 0.0053, 10)\n",
    "eqn2_n3 = np.random.normal(-2.9881, 0.0285, 10)\n",
    "eqn2_n4 = np.random.normal(-2.986, 0.0389, 10)\n",
    "eqn2_n5 =np.random.normal(-2.964,0.0804,10)\n",
    "eqn2_n6 =np.random.normal(-3.0609,0.1149,10)\n",
    "coeff_1_eqn_2=[eqn2_0 , eqn2_n1, eqn2_n2, eqn2_n3,eqn2_n4, eqn2_n5, eqn2_n6 ]\n",
    "\n",
    "#coeff_2_eqn_2\n",
    "eqn2a_0 = np.random.normal(-0.2, 0.0, 10)\n",
    "eqn2a_n1= np.random.normal(-0.2, 0.0045, 10)\n",
    "eqn2a_n2= np.random.normal(-0.201, 0.0065, 10)\n",
    "eqn2a_n3 = np.random.normal(-0.1859, 0.0512, 10)\n",
    "eqn2a_n4 = np.random.normal(-0.1725, 0.0311, 10)\n",
    "eqn2a_n5 = np.random.normal(-.1859, 0.0678, 10)\n",
    "eqn2a_n6 =np.random.normal(-0.1341, 0.0252, 10)\n",
    "coeff_2_eqn_2=[eqn2a_0 , eqn2a_n1, eqn2a_n2, eqn2a_n3, eqn2a_n4, eqn2a_n5, eqn2a_n6 ]\n",
    "\n",
    "labels = ['0','0.25', '0.5', '0.75', '1.0','1.25','1.5']\n",
    "medianprops = dict(linewidth=0)\n",
    "\n",
    "\n",
    "fig, (ax1, ax2,ax3,ax4) = plt.subplots(nrows=4, ncols=1, figsize=(20, 20),  sharex=True)\n",
    "\n",
    "# rectangular box plot\n",
    "bplot1 = ax1.boxplot(coeff_1_eqn_1,0,'',\n",
    "                     vert=True,  # vertical box alignment\n",
    "                     medianprops=medianprops, #remove median\n",
    "                     patch_artist=True,  # fill with color\n",
    "                     labels=labels)  # will be used to label x-ticks\n",
    "ax1.axhline(y=-0.2,linestyle=\"dashed\", color=\"black\", label=\"actual coefficient value\")\n",
    "ax1.set_title('Coefficient 1 equation 1')\n",
    "\n",
    "\n",
    "bplot2 = ax2.boxplot(coeff_2_eqn_1,0,'',\n",
    "                     vert=True,  # vertical box alignment\n",
    "                     medianprops=medianprops,#remove median\n",
    "                     patch_artist=True,  # fill with color\n",
    "                     labels=labels)  # will be used to label x-ticks\n",
    "ax2.axhline(y=3.0,linestyle=\"dashed\", color=\"black\")\n",
    "ax2.set_title('Coefficient 2 equation 1')\n",
    "\n",
    "bplot3 = ax3.boxplot(coeff_1_eqn_2,0,'',\n",
    "                     vert=True,  # vertical box alignment\n",
    "                     medianprops=medianprops,#remove median\n",
    "                     patch_artist=True,  # fill with color\n",
    "                     labels=labels)  # will be used to label x-ticks\n",
    "ax3.axhline(y=-3.0,linestyle=\"dashed\", color=\"black\")\n",
    "ax3.set_title('Coefficient 1 equation 2')\n",
    "\n",
    "bplot4 = ax4.boxplot(coeff_2_eqn_2,0,'',\n",
    "                     vert=True,  # vertical box alignment\n",
    "                     medianprops=medianprops,#remove median\n",
    "                     patch_artist=True,  # fill with color\n",
    "                     labels=labels)  # will be used to label x-ticks\n",
    "ax4.axhline(y=-0.2,linestyle=\"dashed\", color=\"black\")\n",
    "ax4.set_title('Coefficient 2 equation 2')\n",
    "\n",
    "# fill with colors\n",
    "colors = ['pink', 'blue', 'green','red', 'yellow','purple']\n",
    "for bplot in (bplot1, bplot2,bplot3,bplot4):\n",
    "    for patch, color in zip(bplot['boxes'], colors):\n",
    "        patch.set_facecolor(color)\n",
    "\n",
    "# adding horizontal grid lines\n",
    "for ax in [ax1, ax2,ax3,ax4]:\n",
    "    ax.set_ylabel('Coefficient Value')\n",
    "    ax.yaxis.set_label_coords(-0.05, 0.5)\n",
    "\n",
    "\n",
    "plt.rcParams.update({'font.size': 18})    \n",
    "ax1.legend(loc=\"best\")\n",
    "ax4.set_xlabel('Noise Level (a.u)')\n",
    "fig.suptitle('Noise on both equations',fontsize=24, fontweight='bold')\n",
    "plt.show()\n"
   ]
  },
  {
   "cell_type": "code",
   "execution_count": null,
   "metadata": {},
   "outputs": [],
   "source": [
    "#y2=[]\n",
    "#with open('umdataY2.txt', newline = '') as texts:\n",
    " #   number2=[]\n",
    "  #  text_reader = csv.reader(texts, delimiter='\\t')\n",
    "##    for number2 in text_reader:\n",
    "#        print(number2)\n",
    "        \n",
    "#y2=[float(i) for i in number2]\n",
    "#         x[p+1] = x[p]+dt*(-k*x[p]-(b*((1.+np.exp(-4*(y[p]-.5)))**-1))+S1) + c*np.sqrt(dt)*np.random.randn()\n",
    "#         y[p+1] =y[p]+dt*(-k*y[p]-(b*((1.+np.exp(-4*(x[p]-.5)))**-1))+S2) + c*np.sqrt(dt)*np.random.randn()"
   ]
  }
 ],
 "metadata": {
  "kernelspec": {
   "display_name": "Python 3",
   "language": "python",
   "name": "python3"
  },
  "language_info": {
   "codemirror_mode": {
    "name": "ipython",
    "version": 3
   },
   "file_extension": ".py",
   "mimetype": "text/x-python",
   "name": "python",
   "nbconvert_exporter": "python",
   "pygments_lexer": "ipython3",
   "version": "3.8.5"
  }
 },
 "nbformat": 4,
 "nbformat_minor": 4
}
